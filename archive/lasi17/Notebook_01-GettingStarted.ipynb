{
 "cells": [
  {
   "cell_type": "markdown",
   "metadata": {
    "collapsed": true
   },
   "source": [
    "## Getting Started"
   ]
  },
  {
   "cell_type": "markdown",
   "metadata": {},
   "source": [
    "### GitHub and Jupyter\n",
    "\n",
    "Everything that you require for this workshop is available on GitHub and released under an Apache 2.0 license. We encourage you to make improvements (or add additional resources) and contribute back to the repos so that this workshop can be improved for future participants. \n",
    "\n",
    "If you are unfamiliar with working with GitHub, then see this website for helpful tips.\n",
    "\n",
    "You can run these notebooks yourself on your own machine by following the installation steps in the [repo's README](https://github.com/uts-cic/tap-notebooks)"
   ]
  },
  {
   "cell_type": "markdown",
   "metadata": {},
   "source": [
    "### Notebook basics\n",
    "\n",
    "We are going to get straight into using this notebook. If you are not familiar with Jupyter notebooks, you can find some help under the ```help``` menu, and more detailed tutorials at these websites...\n",
    "\n",
    "   - [Jupyter documentation](http://jupyter-notebook.readthedocs.io/en/latest/examples/Notebook/examples_index.html)\n",
    "   - [jupyter-scala website](https://github.com/alexarchambault/jupyter-scala)\n",
    "    \n",
    "To get started, let's try a basic hello world!"
   ]
  },
  {
   "cell_type": "code",
   "execution_count": null,
   "metadata": {
    "collapsed": true
   },
   "outputs": [],
   "source": [
    "//Let's assign a value \n",
    "// Assign \"LASI'17\" to myWorld by replacing the ???\n",
    "\n",
    "val myWorld = ???"
   ]
  },
  {
   "cell_type": "markdown",
   "metadata": {},
   "source": [
    "Pressing **shift-return** will run the currently selected cell and move to the next cell. Do this in the cell above. The result should be:\n",
    "\n",
    "```\n",
    "Out[1]: myWorld: String = \"LASI'17\" \n",
    "\n",
    "```\n",
    "Once you have this, run the cell below to show a sentence with the value included."
   ]
  },
  {
   "cell_type": "code",
   "execution_count": null,
   "metadata": {
    "collapsed": true
   },
   "outputs": [],
   "source": [
    "show(s\"Hello $myWorld!\")"
   ]
  },
  {
   "cell_type": "markdown",
   "metadata": {},
   "source": [
    "The notebook takes code that has been run in previous cells and allows you to use it in subsequent cells. We will use this feature to step through various processes in Writing Analytics.\n",
    "\n",
    "`show()` is a function that writes to the output of the cell. However, with scala, the cell can show the output of any expression. The following takes a variable (`myWorld`) and embeds it in a string (`s\"Hello !\"`)."
   ]
  },
  {
   "cell_type": "code",
   "execution_count": null,
   "metadata": {
    "collapsed": true
   },
   "outputs": [],
   "source": [
    "s\"Hello $myWorld!\""
   ]
  },
  {
   "cell_type": "markdown",
   "metadata": {},
   "source": [
    "The result is a string. Because we didn't assign it, the notebook assigned it to a result (`res5`). This is an actual value and we can work with it."
   ]
  },
  {
   "cell_type": "code",
   "execution_count": null,
   "metadata": {
    "collapsed": true
   },
   "outputs": [],
   "source": [
    "//Output the string above to the notebook by replacing the ???\n",
    "show(???)"
   ]
  },
  {
   "cell_type": "markdown",
   "metadata": {},
   "source": [
    "#### Coding\n",
    "\n",
    "The code in the notebook is run by a 'kernel'. The name of the kernel is in the top righthand corner of the window under the logout button. For this workshop, we have scala or python notebooks. \n",
    "\n",
    "You can pick one of a number of options to complete this workshop:\n",
    "\n",
    "1. Follow along in the scala language using the scala notebooks\n",
    "2. Follow along in the python language using the python notebooks\n",
    "3. Work in scala or python on your local machine using the notebooks as a guide\n",
    "4. Work in another language that you prefer trying the notebook exercises in your own language\n",
    "\n",
    "***Adopt the approach that is most useful for you and your work***"
   ]
  },
  {
   "cell_type": "markdown",
   "metadata": {},
   "source": [
    "### I/O\n",
    "\n",
    "For this workshop we're going to need some basic input and output. Rather than coding this everytime we need it, we have two objects that can provide access to (a) the file system and (b) the text analytics pipeline (TAP)\n",
    "\n",
    "#### Basic file access\n",
    "\n",
    "Create an object that will provide some basic filesystem access:\n",
    "- Hold common properties\n",
    "- Provide common file access methods"
   ]
  },
  {
   "cell_type": "code",
   "execution_count": null,
   "metadata": {
    "collapsed": true
   },
   "outputs": [],
   "source": [
    "object LocalIO {\n",
    "    import java.io.File\n",
    "    import scala.io.Source\n",
    "    \n",
    "    val IN_DIR_NAME = \"/input_files\"\n",
    "    val OUT_DIR_NAME = \"/output_files\"\n",
    "    \n",
    "    val thisDir = new File(\".\").getCanonicalPath\n",
    "    val inputFileDir = thisDir+IN_DIR_NAME\n",
    "    val outputFileDir = thisDir+OUT_DIR_NAME\n",
    "    \n",
    "    val visibleFile = (file:File) => !file.isHidden\n",
    "    val textFile = (file:File) => file.getName.split('.').last.contains(\"txt\")\n",
    "    \n",
    "    def directoryFromString(directory:String):Option[File] = {\n",
    "         val thisDir = new File(directory)\n",
    "         if (thisDir.exists && thisDir.isDirectory) Some(thisDir)\n",
    "         else None\n",
    "    }\n",
    "    \n",
    "    def listFiles(directory:String):List[File] = {\n",
    "        directoryFromString(directory) match {\n",
    "            case Some(dir) => dir.listFiles.toList\n",
    "            case None => List[File]()\n",
    "        }\n",
    "    }\n",
    "    \n",
    "    def listThisDir = listFiles(thisDir)\n",
    "    \n",
    "    def listThisDirVisible = listThisDir.filter(visibleFile)\n",
    "    \n",
    "    def listThisDirText = listThisDirVisible.filter(textFile)\n",
    "    \n",
    "    def readFile(file:File) = {\n",
    "        val source = Source.fromFile(file.getCanonicalPath)\n",
    "        try {\n",
    "            source.getLines.mkString(\"\\n\\n\")\n",
    "        } finally {\n",
    "            source.close\n",
    "        }\n",
    "    }\n",
    "}"
   ]
  },
  {
   "cell_type": "code",
   "execution_count": null,
   "metadata": {
    "collapsed": true
   },
   "outputs": [],
   "source": [
    "//Check that this object is working as expected\n",
    "\n",
    "//What files are in the current directory?\n",
    "show(LocalIO.listThisDir)"
   ]
  },
  {
   "cell_type": "code",
   "execution_count": null,
   "metadata": {
    "collapsed": true
   },
   "outputs": [],
   "source": [
    "//What text files are available in the input directory?\n",
    "val inputTextFiles = LocalIO.listFiles(LocalIO.inputFileDir).filter(LocalIO.textFile)\n",
    "\n",
    "//Open and show the first file in the input directory\n",
    "show(LocalIO.readFile(inputTextFiles.head))"
   ]
  },
  {
   "cell_type": "markdown",
   "metadata": {},
   "source": [
    "#### TAP access\n",
    "\n",
    "Create an object that will provide access to the Text Analytics Pipeline (TAP):\n",
    "- Hold common properties\n",
    "- Provide common TAP methods"
   ]
  },
  {
   "cell_type": "code",
   "execution_count": 1,
   "metadata": {},
   "outputs": [
    {
     "name": "stdout",
     "output_type": "stream",
     "text": [
      "Downloading https://repo1.maven.org/maven2/com/lihaoyi/upickle_2.11/0.4.4/upickle_2.11-0.4.4.pom\n",
      "Downloading https://repo1.maven.org/maven2/com/lihaoyi/upickle_2.11/0.4.4/upickle_2.11-0.4.4.pom.sha1\n",
      "Downloaded https://repo1.maven.org/maven2/com/lihaoyi/upickle_2.11/0.4.4/upickle_2.11-0.4.4.pom\n",
      "Downloaded https://repo1.maven.org/maven2/com/lihaoyi/upickle_2.11/0.4.4/upickle_2.11-0.4.4.pom.sha1\n",
      "Downloading https://repo1.maven.org/maven2/com/lihaoyi/derive_2.11/0.4.4/derive_2.11-0.4.4.pom\n",
      "Downloading https://repo1.maven.org/maven2/com/lihaoyi/sourcecode_2.11/0.1.3/sourcecode_2.11-0.1.3.pom.sha1\n",
      "Downloading https://repo1.maven.org/maven2/org/spire-math/jawn-parser_2.11/0.10.3/jawn-parser_2.11-0.10.3.pom\n",
      "Downloading https://repo1.maven.org/maven2/com/lihaoyi/sourcecode_2.11/0.1.3/sourcecode_2.11-0.1.3.pom\n",
      "Downloading https://repo1.maven.org/maven2/com/lihaoyi/derive_2.11/0.4.4/derive_2.11-0.4.4.pom.sha1\n",
      "Downloading https://repo1.maven.org/maven2/org/spire-math/jawn-parser_2.11/0.10.3/jawn-parser_2.11-0.10.3.pom.sha1\n",
      "Downloaded https://repo1.maven.org/maven2/com/lihaoyi/derive_2.11/0.4.4/derive_2.11-0.4.4.pom\n",
      "Downloaded https://repo1.maven.org/maven2/com/lihaoyi/derive_2.11/0.4.4/derive_2.11-0.4.4.pom.sha1\n",
      "Downloaded https://repo1.maven.org/maven2/com/lihaoyi/sourcecode_2.11/0.1.3/sourcecode_2.11-0.1.3.pom\n",
      "Downloaded https://repo1.maven.org/maven2/com/lihaoyi/sourcecode_2.11/0.1.3/sourcecode_2.11-0.1.3.pom.sha1\n",
      "Downloaded https://repo1.maven.org/maven2/org/spire-math/jawn-parser_2.11/0.10.3/jawn-parser_2.11-0.10.3.pom.sha1\n",
      "Downloaded https://repo1.maven.org/maven2/org/spire-math/jawn-parser_2.11/0.10.3/jawn-parser_2.11-0.10.3.pom\n",
      "Downloading https://repo1.maven.org/maven2/com/lihaoyi/upickle_2.11/0.4.4/upickle_2.11-0.4.4.jar\n",
      "Downloading https://repo1.maven.org/maven2/com/lihaoyi/sourcecode_2.11/0.1.3/sourcecode_2.11-0.1.3.jar\n",
      "Downloading https://repo1.maven.org/maven2/com/lihaoyi/upickle_2.11/0.4.4/upickle_2.11-0.4.4.jar.sha1\n",
      "Downloading https://repo1.maven.org/maven2/com/lihaoyi/sourcecode_2.11/0.1.3/sourcecode_2.11-0.1.3.jar.sha1\n",
      "Downloading https://repo1.maven.org/maven2/com/lihaoyi/derive_2.11/0.4.4/derive_2.11-0.4.4.jar.sha1\n",
      "Downloading https://repo1.maven.org/maven2/com/lihaoyi/derive_2.11/0.4.4/derive_2.11-0.4.4.jar\n",
      "Downloaded https://repo1.maven.org/maven2/com/lihaoyi/sourcecode_2.11/0.1.3/sourcecode_2.11-0.1.3.jar.sha1\n",
      "Downloaded https://repo1.maven.org/maven2/com/lihaoyi/derive_2.11/0.4.4/derive_2.11-0.4.4.jar.sha1\n",
      "Downloaded https://repo1.maven.org/maven2/com/lihaoyi/upickle_2.11/0.4.4/upickle_2.11-0.4.4.jar.sha1\n",
      "Downloading https://repo1.maven.org/maven2/org/spire-math/jawn-parser_2.11/0.10.3/jawn-parser_2.11-0.10.3.jar\n",
      "Downloading https://repo1.maven.org/maven2/org/spire-math/jawn-parser_2.11/0.10.3/jawn-parser_2.11-0.10.3.jar.sha1\n",
      "Downloaded https://repo1.maven.org/maven2/org/spire-math/jawn-parser_2.11/0.10.3/jawn-parser_2.11-0.10.3.jar.sha1\n",
      "Downloaded https://repo1.maven.org/maven2/com/lihaoyi/sourcecode_2.11/0.1.3/sourcecode_2.11-0.1.3.jar\n",
      "Downloaded https://repo1.maven.org/maven2/org/spire-math/jawn-parser_2.11/0.10.3/jawn-parser_2.11-0.10.3.jar\n",
      "Downloaded https://repo1.maven.org/maven2/com/lihaoyi/derive_2.11/0.4.4/derive_2.11-0.4.4.jar\n",
      "https://repo1.maven.org/maven2/com/lihaoyi/upickle_2.11/0.4.4/… (86.01 %, 34343…\n",
      "\n",
      "Downloaded https://repo1.maven.org/maven2/com/lihaoyi/upickle_2.11/0.4.4/upickle_2.11-0.4.4.jar\n"
     ]
    },
    {
     "data": {
      "text/plain": [
       "\u001b[32mimport \u001b[39m\u001b[36m$ivy.$                                  \n",
       "\u001b[39m\n",
       "\u001b[32mimport \u001b[39m\u001b[36m$ivy.$                               \n",
       "\n",
       "\u001b[39m\n",
       "defined \u001b[32mobject\u001b[39m \u001b[36mTap\u001b[39m"
      ]
     },
     "execution_count": 1,
     "metadata": {},
     "output_type": "execute_result"
    }
   ],
   "source": [
    "//For TAP access we need a couple of libraries to handle the http connection and the deserialisation of json\n",
    "import $ivy.`org.scalaj:scalaj-http_2.11:2.3.0`\n",
    "import $ivy.`com.lihaoyi:upickle_2.11:0.4.4`\n",
    "\n",
    "object Tap {\n",
    "    import scalaj.http._\n",
    "    \n",
    "    //val API_URL = \"https://b9yiddda69.execute-api.ap-southeast-2.amazonaws.com/initialtest/v1\"\n",
    "    val API_URL = \"http://localhost:8080/v1\"\n",
    "    val HEALTH_URL = API_URL+\"/health\"\n",
    "    val CLEAN_URL = API_URL+\"/analyse/text/clean\"\n",
    "    \n",
    "    case class Message(message:String)\n",
    "    case class Results(message:String,results:List[String])\n",
    "\n",
    "    def serverDetails = Http(API_URL).asString\n",
    "\n",
    "    def getHealthMessage = {\n",
    "        println(s\"Connecting to $HEALTH_URL\")\n",
    "        val response = Http(HEALTH_URL).asString\n",
    "        //println(response)\n",
    "        upickle.default.read[Message](response.body)\n",
    "    }\n",
    "\n",
    "    def serverIsHealthy = {\n",
    "        try { getHealthMessage.message==\"ok\" }\n",
    "        catch { case e:Exception => {\n",
    "                println(s\"There was a problem with the server: $e\")\n",
    "                false }\n",
    "        }\n",
    "    }\n",
    "    \n",
    "    def cleanText(text:String) = {\n",
    "        println(s\"Cleaning text: $text\")\n",
    "        val response = Http(CLEAN_URL).postData(text).asString\n",
    "        upickle.default.read[Results](response.body)\n",
    "    }\n",
    "}"
   ]
  },
  {
   "cell_type": "code",
   "execution_count": 2,
   "metadata": {},
   "outputs": [
    {
     "name": "stdout",
     "output_type": "stream",
     "text": [
      "Connecting to http://localhost:8080/v1/health\n",
      "\u001b[32mtrue\u001b[39m\n"
     ]
    }
   ],
   "source": [
    "//Check that this object is working as expected\n",
    "\n",
    "//Try connecting to the server to check that it is up and running\n",
    "show(Tap.serverIsHealthy)"
   ]
  },
  {
   "cell_type": "markdown",
   "metadata": {},
   "source": [
    "### Workshop approach\n",
    "\n",
    "The workshop is intended to guide you through some of the processes involved in Writing Analytics. It is not indended to be prescriptive, but rather to provide a lot of flexibility for you to explore the ideas in ways that are most relevant to your work.\n",
    "\n",
    "If you're inexperienced with coding, then you may just wish to stick on the path provided by the Jupyter notebooks. If you're experienced, then you may wish to explore the ideas in your own way. **Choose the best path for you.**\n",
    "\n",
    "#### Common ground\n",
    "\n",
    "Regardless of which approach you take, all of us will explore some common ground through 3 questions that we will continually revist over the course of the workshop:\n",
    "\n",
    "1. What are the pedagogical aspects?\n",
    "2. What are the computational aspects?\n",
    "3. How do we connect the pedagogical and the computational\n",
    "\n",
    "We can think of each connection as a single Writing Analytics beam, with the aim of building an increasingly strong bridge over time from multiple beams connecting the pedagogical and the computational. \n"
   ]
  },
  {
   "cell_type": "markdown",
   "metadata": {},
   "source": [
    "### Thoughts on accuracy and precision"
   ]
  },
  {
   "cell_type": "code",
   "execution_count": null,
   "metadata": {
    "collapsed": true
   },
   "outputs": [],
   "source": [
    "2+3"
   ]
  },
  {
   "cell_type": "code",
   "execution_count": null,
   "metadata": {
    "collapsed": true
   },
   "outputs": [],
   "source": [
    "1.9999999999 + 3.0000000001"
   ]
  },
  {
   "cell_type": "markdown",
   "metadata": {},
   "source": [
    "**The bald man problem:**"
   ]
  },
  {
   "cell_type": "markdown",
   "metadata": {},
   "source": [
    "**Learning Analytics:** When can we know that a student has actually learnt something?"
   ]
  },
  {
   "cell_type": "markdown",
   "metadata": {},
   "source": [
    "### Thoughts on evaluation\n",
    "\n",
    "So what does this mean for how we should evaluate our Writing Analytics?"
   ]
  },
  {
   "cell_type": "code",
   "execution_count": null,
   "metadata": {
    "collapsed": true
   },
   "outputs": [],
   "source": []
  }
 ],
 "metadata": {
  "kernelspec": {
   "display_name": "Scala",
   "language": "scala",
   "name": "scala"
  },
  "language_info": {
   "codemirror_mode": "text/x-scala",
   "file_extension": ".scala",
   "mimetype": "text/x-scala",
   "name": "scala212",
   "nbconvert_exporter": "script",
   "pygments_lexer": "scala",
   "version": "2.12.1"
  }
 },
 "nbformat": 4,
 "nbformat_minor": 1
}
