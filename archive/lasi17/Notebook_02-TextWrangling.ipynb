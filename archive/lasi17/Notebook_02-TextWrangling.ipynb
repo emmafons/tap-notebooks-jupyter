{
 "cells": [
  {
   "cell_type": "markdown",
   "metadata": {
    "collapsed": true,
    "slideshow": {
     "slide_type": "slide"
    }
   },
   "source": [
    "## Text Wrangling"
   ]
  },
  {
   "cell_type": "code",
   "execution_count": 1,
   "metadata": {
    "slideshow": {
     "slide_type": "slide"
    }
   },
   "outputs": [
    {
     "name": "stdout",
     "output_type": "stream",
     "text": [
      "Compiling IO.sc\n"
     ]
    },
    {
     "data": {
      "text/plain": [
       "\u001b[32mimport \u001b[39m\u001b[36m$ivy.$                                  \n",
       "\u001b[39m\n",
       "\u001b[32mimport \u001b[39m\u001b[36m$ivy.$                               \n",
       "\u001b[39m\n",
       "\u001b[32mimport \u001b[39m\u001b[36m$file.$         \u001b[39m"
      ]
     },
     "execution_count": 1,
     "metadata": {},
     "output_type": "execute_result"
    }
   ],
   "source": [
    "//Load helper objects\n",
    "import $ivy.`org.scalaj:scalaj-http_2.11:2.3.0`\n",
    "import $ivy.`com.lihaoyi:upickle_2.11:0.4.4`\n",
    "import $file.imports.IO"
   ]
  },
  {
   "cell_type": "markdown",
   "metadata": {},
   "source": [
    "### cleaning\n",
    "\n",
    "- why is cleaning necessary?\n",
    "- why is cleaning a non-trivial task?\n",
    "- what are the dangers in the cleaning process?"
   ]
  },
  {
   "cell_type": "code",
   "execution_count": 2,
   "metadata": {},
   "outputs": [
    {
     "data": {
      "text/plain": [
       "\u001b[36mres1\u001b[39m: \u001b[32mList\u001b[39m[\u001b[32mString\u001b[39m] = \u001b[33mList\u001b[39m(\u001b[32m\"Clean me\"\u001b[39m, \u001b[32m\"please\"\u001b[39m)"
      ]
     },
     "execution_count": 2,
     "metadata": {},
     "output_type": "execute_result"
    }
   ],
   "source": [
    "IO.Tap.cleanText(\"C¢¶£§le∆˙©an §••–me˙˚˙©\\n\\npl•§ea£¢¬˙se\").results"
   ]
  },
  {
   "cell_type": "markdown",
   "metadata": {},
   "source": [
    "Let's load something more substantial to clean - the file from the last notebook. By wrapping the work in a function (`cleanFile`) and showing only the results of the function (`show(cleanFile)`), we suppress all of the processing output."
   ]
  },
  {
   "cell_type": "code",
   "execution_count": 7,
   "metadata": {},
   "outputs": [
    {
     "name": "stdout",
     "output_type": "stream",
     "text": [
      "\u001b[33mList\u001b[39m(\n",
      "  \u001b[32m\"Before I went on placement in XXXX in the Summer break, I didnt know how much the pharmacy means in the day-to-day life of the average elderly person, but also how important HMR is, and how it can save lives. I was familiar with the usual aspects of being older: more medical conditions that leads to more medications which leads to more medications being forgotten and the vicious cycle that ensues, but to see how this actually played out in everyday practice, with the consequences that it entailed, was eye opening, sad and exciting all at once.\"\u001b[39m,\n",
      "  \u001b[32m\"We had one case of an elderly gentleman (and he really was a gentle man)- Mr DA, who had been baffling his doctors and the pharmacy for months about his fluctuating INR. No one could work out what it was, and it was only after placement when I rang to enquire as to how this gentleman was going for my case review that I found out that an HMR had been done (finally after multiple requests to the GP) and Mr DA had been intermittently taking fish oil without telling anyone. Mr DA would take a fish oil every other day or so, for a few days, when he remembered, which was a bit patchy at the best of times. As a result his INR would go up and then his warfarin would need to change in his Webster pack that we would pack for him, and then he would forget to take the fish oil for a while and his INR would go down, and his warfarin dose would need to change again- It was IT1 week 3 Cardiovascular right in front of my eyes!\"\u001b[39m,\n",
      "  \u001b[32m\"However, most surprisingly to me, it highlighted and challenged my ideas about the importance of HMR (which I had learnt about in theory in PS2). While learning about HMR in PS2 I skeptical that having a medication review in the home would really contribute much to the report, and really that it was a bit of a gimmick. After all, medications are the same whether they are in the pharmacy or in the home.... Right? This case brought home the importance of seeing the medications in situ, as the fish oil was only found out about once it was seen in the cupboard along side Mr DAs usual Webster pack. It could be said that the HMR potentially saved the life of this patient, as his fish oil is now being packed, and being taken consistently and the INR has settled.\"\u001b[39m,\n",
      "  \u001b[32m\"I also came to see the effects of once cognitive impairment starts to set in from an objective point of view, which I wasnt able to see previously. I saw from a pharmacists point of view how it becomes infinitely more difficult to help patients with self-managing their medication especially if non-intentional non-adherence becomes a problem. Mr DA wasnt able to tell us that he was on fish oil, as he forgot that he had it, and that in itself presented as a fluctuating INR. He would also forget to take his medication from his Webster packs for weeks at a time also, returning the full, unused packs of Websters back to the pharmacy. This non-intentional non-adherence (as we learnt in PS2) was having therapeutic repercussions, probably compounding his medication related issues many times over.\"\u001b[39m,\n",
      "  \u001b[32m\"However, the situation also brought back memories for me, of my father in his dementia having scripts filled with boxes of medications around the house after seeing the Dr and then forgetting to take the medications, and then repeating the process again next time he went back to see the GP. It is exactly this situation that a person isnt going to necessarily remember or admit to, but could lead to polypharmacy that could have dire consequences.\"\u001b[39m,\n",
      "  \u001b[32m\"It is another situation that an HMR will identify and report back to the doctor, and potentially save a life with.\"\u001b[39m,\n",
      "  \u001b[32m\"As a result, I have become a converted HMR advocate. While I had no interest in becoming accredited, I am now keen to see what it involves and how I can be of use in this context within the profession. This experience has truly shaped my professional life, and Mr DA will always stay with me as the patient who taught me the importance of HMR.\"\u001b[39m\n",
      ")\n"
     ]
    },
    {
     "data": {
      "text/plain": [
       "defined \u001b[32mfunction\u001b[39m \u001b[36mcleanFile\u001b[39m"
      ]
     },
     "execution_count": 7,
     "metadata": {},
     "output_type": "execute_result"
    }
   ],
   "source": [
    "def cleanFile = { \n",
    "    val pharmacyFile = IO.Local.listFiles(IO.Local.inputFileDir).filter(IO.Local.textFile).head\n",
    "    val pharmacyText = IO.Local.readFile(pharmacyFile)\n",
    "    val cleanedText = IO.Tap.cleanText(pharmacyText).results\n",
    "    cleanedText\n",
    "}\n",
    "\n",
    "show(cleanFile)"
   ]
  },
  {
   "cell_type": "markdown",
   "metadata": {},
   "source": [
    "### structuring\n",
    "\n",
    "- chunking\n",
    "- tokenising\n",
    "- multiple approaches may be needed depending on what is ahead (i.e. different algorithms need different text input)"
   ]
  },
  {
   "cell_type": "code",
   "execution_count": null,
   "metadata": {
    "collapsed": true
   },
   "outputs": [],
   "source": []
  },
  {
   "cell_type": "markdown",
   "metadata": {},
   "source": [
    "### bridge building\n",
    "\n",
    "- what are the implications for pedagogy?\n",
    "- what does the theory say?"
   ]
  },
  {
   "cell_type": "code",
   "execution_count": null,
   "metadata": {
    "collapsed": true
   },
   "outputs": [],
   "source": []
  }
 ],
 "metadata": {
  "kernelspec": {
   "display_name": "Scala",
   "language": "scala",
   "name": "scala"
  },
  "language_info": {
   "codemirror_mode": "text/x-scala",
   "file_extension": ".scala",
   "mimetype": "text/x-scala",
   "name": "scala212",
   "nbconvert_exporter": "script",
   "pygments_lexer": "scala",
   "version": "2.12.1"
  }
 },
 "nbformat": 4,
 "nbformat_minor": 1
}
