{
 "cells": [
  {
   "cell_type": "markdown",
   "metadata": {},
   "source": [
    "# HTML Render"
   ]
  },
  {
   "cell_type": "code",
   "execution_count": 9,
   "metadata": {},
   "outputs": [
    {
     "data": {
      "text/plain": [
       "\u001b[36mcss\u001b[39m: \u001b[32mString\u001b[39m = \u001b[32m\"\"\"\n",
       "<style>\n",
       "    \n",
       "        .highlight {\n",
       "            background-color:yellow;\n",
       "        }\n",
       "        \n",
       "        </style>\n",
       "\"\"\"\u001b[39m\n",
       "\u001b[36mhtml\u001b[39m: \u001b[32mString\u001b[39m = \u001b[32m\"\"\"\n",
       "\n",
       "        \n",
       "        <h3 class=\"highlight\">Hello, Here is some text</h3>\n",
       "        <p>In place highlighting like this: <span class=\"highlight\">and here is some more text</span>. And back to normal text</p>\n",
       "        \n",
       "        \n",
       "\"\"\"\u001b[39m\n",
       "\u001b[36mjs\u001b[39m: \u001b[32mString\u001b[39m = \u001b[32m\"\"\"\n",
       "\n",
       "        alert(\"The data is: List(Here is some text, and here is some more text)\")\n",
       "    \n",
       "\"\"\"\u001b[39m"
      ]
     },
     "execution_count": 9,
     "metadata": {},
     "output_type": "execute_result"
    }
   ],
   "source": [
    "//These could be loaded from files\n",
    "val css = s\"\"\"<style>\n",
    "    \n",
    "        .highlight {\n",
    "            background-color:$colour;\n",
    "        }\n",
    "        \n",
    "        </style>\"\"\"\n",
    "\n",
    "val html = s\"\"\"\n",
    "        \n",
    "        <h3 class=\"$highlight\">Hello, ${data(0)}</h3>\n",
    "        <p>In place highlighting like this: $wrapped. And back to normal text</p>\n",
    "        \n",
    "        \"\"\"\n",
    "\n",
    "val js = s\"\"\"\n",
    "        alert(\"The data is: $data\")\n",
    "    \"\"\""
   ]
  },
  {
   "cell_type": "code",
   "execution_count": 10,
   "metadata": {},
   "outputs": [
    {
     "data": {
      "text/plain": [
       "\u001b[36mdata\u001b[39m: \u001b[32mList\u001b[39m[\u001b[32mString\u001b[39m] = \u001b[33mList\u001b[39m(\u001b[32m\"Here is some text\"\u001b[39m, \u001b[32m\"and here is some more text\"\u001b[39m)\n",
       "\u001b[36mcolour\u001b[39m: \u001b[32mString\u001b[39m = \u001b[32m\"yellow\"\u001b[39m\n",
       "\u001b[36mhighlight\u001b[39m: \u001b[32mString\u001b[39m = \u001b[32m\"highlight\"\u001b[39m\n",
       "\u001b[36mwrapped\u001b[39m: \u001b[32mString\u001b[39m = \u001b[32m\"\"\"\n",
       "<span class=\"highlight\">and here is some more text</span>\n",
       "\"\"\"\u001b[39m\n",
       "defined \u001b[32mfunction\u001b[39m \u001b[36mdisplayCSS\u001b[39m\n",
       "defined \u001b[32mfunction\u001b[39m \u001b[36mdisplayHTML\u001b[39m\n",
       "defined \u001b[32mfunction\u001b[39m \u001b[36mdisplayJS\u001b[39m"
      ]
     },
     "execution_count": 10,
     "metadata": {},
     "output_type": "execute_result"
    }
   ],
   "source": [
    "val data = List(\"Here is some text\",\"and here is some more text\")\n",
    "var colour = \"yellow\"\n",
    "val highlight = \"highlight\"\n",
    "val wrapped = s\"\"\"<span class=\"$highlight\">${data(1)}</span>\"\"\"\n",
    "\n",
    "def displayCSS = publish.html(css)\n",
    "def displayHTML = publish.html(html)\n",
    "def displayJS = publish.js(js)"
   ]
  },
  {
   "cell_type": "code",
   "execution_count": 11,
   "metadata": {},
   "outputs": [
    {
     "data": {
      "text/html": [
       "<style>\n",
       "    \n",
       "        .highlight {\n",
       "            background-color:yellow;\n",
       "        }\n",
       "        \n",
       "        </style>"
      ]
     },
     "metadata": {},
     "output_type": "execute_result"
    },
    {
     "data": {
      "text/html": [
       "\n",
       "        \n",
       "        <h3 class=\"highlight\">Hello, Here is some text</h3>\n",
       "        <p>In place highlighting like this: <span class=\"highlight\">and here is some more text</span>. And back to normal text</p>\n",
       "        \n",
       "        "
      ]
     },
     "metadata": {},
     "output_type": "execute_result"
    }
   ],
   "source": [
    "displayCSS\n",
    "displayHTML"
   ]
  },
  {
   "cell_type": "code",
   "execution_count": null,
   "metadata": {
    "collapsed": true
   },
   "outputs": [],
   "source": [
    ""
   ]
  }
 ],
 "metadata": {
  "kernelspec": {
   "display_name": "Scala",
   "language": "scala",
   "name": "scala"
  },
  "language_info": {
   "codemirror_mode": "text/x-scala",
   "file_extension": ".scala",
   "mimetype": "text/x-scala",
   "name": "scala212",
   "nbconvert_exporter": "script",
   "pygments_lexer": "scala",
   "version": "2.12.1"
  }
 },
 "nbformat": 4,
 "nbformat_minor": 0
}