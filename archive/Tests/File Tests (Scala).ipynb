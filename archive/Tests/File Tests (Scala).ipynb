{
 "cells": [
  {
   "cell_type": "markdown",
   "metadata": {},
   "source": [
    "# File System Tests"
   ]
  },
  {
   "cell_type": "code",
   "execution_count": null,
   "metadata": {},
   "outputs": [
    {
     "data": {
      "text/plain": [
       "defined \u001b[32mobject\u001b[39m \u001b[36mFileSystem\u001b[39m"
      ]
     },
     "execution_count": 1,
     "metadata": {},
     "output_type": "execute_result"
    }
   ],
   "source": [
    "object FileSystem {\n",
    "    import java.io.File\n",
    "    import scala.io.Source\n",
    "    \n",
    "    val IN_DIR_NAME = \"/input_files\"\n",
    "    val OUT_DIR_NAME = \"/output_files\"\n",
    "    \n",
    "    val thisDir = new File(\".\").getCanonicalPath\n",
    "    val inputFileDir = thisDir+IN_DIR_NAME\n",
    "    val outputFileDir = thisDir+OUT_DIR_NAME\n",
    "    \n",
    "    val visibleFile = (file:File) => !file.isHidden\n",
    "    val textFile = (file:File) => file.getName.split('.').last.contains(\"txt\")\n",
    "    \n",
    "    def directoryFromString(directory:String):Option[File] = {\n",
    "         val thisDir = new File(directory)\n",
    "         if (thisDir.exists && thisDir.isDirectory) Some(thisDir)\n",
    "         else None\n",
    "    }\n",
    "    \n",
    "    def listFiles(directory:String):List[File] = {\n",
    "        directoryFromString(directory) match {\n",
    "            case Some(dir) => dir.listFiles.toList\n",
    "            case None => List[File]()\n",
    "        }\n",
    "    }\n",
    "    \n",
    "    def listThisDir = listFiles(thisDir)\n",
    "    \n",
    "    def listThisDirVisible = listThisDir.filter(visibleFile)\n",
    "    \n",
    "    def listThisDirText = listThisDirVisible.filter(textFile)\n",
    "    \n",
    "    def readFile(file:File) = {\n",
    "        val source = Source.fromFile(file.getCanonicalPath)\n",
    "        try {\n",
    "            source.getLines.mkString(\"\\n\\n\")\n",
    "        } finally {\n",
    "            source.close\n",
    "        }\n",
    "    }\n",
    "}"
   ]
  },
  {
   "cell_type": "code",
   "execution_count": 4,
   "metadata": {},
   "outputs": [
    {
     "name": "stdout",
     "output_type": "stream",
     "text": [
      "\u001b[33mList\u001b[39m(\n",
      "  /Users/andrew/Documents/development/_projects/CIC-Current/tap-notebooks/Experimental,\n",
      "  /Users/andrew/Documents/development/_projects/CIC-Current/tap-notebooks/File Tests (Scala).ipynb,\n",
      "  /Users/andrew/Documents/development/_projects/CIC-Current/tap-notebooks/LASI-17,\n",
      "  /Users/andrew/Documents/development/_projects/CIC-Current/tap-notebooks/LICENSE,\n",
      "  /Users/andrew/Documents/development/_projects/CIC-Current/tap-notebooks/README.md,\n",
      "  /Users/andrew/Documents/development/_projects/CIC-Current/tap-notebooks/TAP Basic Tests (Python 3).ipynb,\n",
      "  /Users/andrew/Documents/development/_projects/CIC-Current/tap-notebooks/TAP Basic Tests (Scala).ipynb\n",
      ")\n"
     ]
    }
   ],
   "source": [
    "show(FileSystem.listThisDirVisible)"
   ]
  },
  {
   "cell_type": "code",
   "execution_count": null,
   "metadata": {
    "collapsed": true
   },
   "outputs": [],
   "source": [
    ""
   ]
  }
 ],
 "metadata": {
  "kernelspec": {
   "display_name": "Scala",
   "language": "scala",
   "name": "scala"
  },
  "language_info": {
   "codemirror_mode": "text/x-scala",
   "file_extension": ".scala",
   "mimetype": "text/x-scala",
   "name": "scala212",
   "nbconvert_exporter": "script",
   "pygments_lexer": "scala",
   "version": "2.12.1"
  }
 },
 "nbformat": 4,
 "nbformat_minor": 0
}