{
 "cells": [
  {
   "cell_type": "markdown",
   "metadata": {},
   "source": [
    "# TAP Basic Tests"
   ]
  },
  {
   "cell_type": "code",
   "execution_count": 12,
   "metadata": {},
   "outputs": [],
   "source": [
    "import requests\n",
    "import json"
   ]
  },
  {
   "cell_type": "code",
   "execution_count": 85,
   "metadata": {},
   "outputs": [],
   "source": [
    "class Tap:\n",
    "    API_URL = \"http://localhost:8080/v1\"\n",
    "    HEALTH_URL = API_URL+\"/health\"\n",
    "    CLEAN_URL = API_URL+\"/analyse/text/clean\"\n",
    "        \n",
    "    def serverDetails(self):  \n",
    "        print(\"Connecting to %s\" % self.API_URL)\n",
    "        r = requests.get(self.API_URL)\n",
    "        return r.json()\n",
    "    \n",
    "    def getHealthMessage(self):\n",
    "        print(\"Connecting to %s\" % self.HEALTH_URL)\n",
    "        r = requests.get(self.HEALTH_URL)\n",
    "        #print(r.status_code,r.headers,r.text)\n",
    "        return r.json() #Returns a dict\n",
    "\n",
    "    def serverIsHealthy(self):\n",
    "        try:\n",
    "            return self.getHealthMessage().get('message')=='ok'\n",
    "        except Exception as inst:\n",
    "            print(\"There was a problem with the server\")\n",
    "            print(inst)\n",
    "            return False\n",
    "\n",
    "    def cleanText(self,text):\n",
    "        print(\"Cleaning text: \",text)\n",
    "        r = requests.post(url=self.CLEAN_URL,data=text.encode('utf-8'))\n",
    "        return r.json()\n",
    "        \n",
    "tap = Tap()"
   ]
  },
  {
   "cell_type": "markdown",
   "metadata": {},
   "source": [
    "### Server Health"
   ]
  },
  {
   "cell_type": "code",
   "execution_count": 86,
   "metadata": {},
   "outputs": [
    {
     "name": "stdout",
     "output_type": "stream",
     "text": [
      "Connecting to http://localhost:8080/v1/health\n",
      "Server is OK\n"
     ]
    }
   ],
   "source": [
    "if tap.serverIsHealthy():\n",
    "    print(\"Server is OK\")\n",
    "else:\n",
    "    print(\"Server is not OK\")"
   ]
  },
  {
   "cell_type": "markdown",
   "metadata": {},
   "source": [
    "### Cleaning Text"
   ]
  },
  {
   "cell_type": "code",
   "execution_count": 91,
   "metadata": {},
   "outputs": [
    {
     "name": "stdout",
     "output_type": "stream",
     "text": [
      "Connecting to http://localhost:8080/v1/health\n",
      "Cleaning text:  C¢¶£§le∆˙©an §••–me˙˚˙©\n",
      "Clean me\n"
     ]
    }
   ],
   "source": [
    "if tap.serverIsHealthy():\n",
    "    results = tap.cleanText(\"C¢¶£§le∆˙©an §••–me˙˚˙©\").get('results')\n",
    "    for result in results:\n",
    "        print(result)"
   ]
  },
  {
   "cell_type": "markdown",
   "metadata": {},
   "source": [
    "### Text Vocabulary"
   ]
  },
  {
   "cell_type": "code",
   "execution_count": null,
   "metadata": {
    "collapsed": true
   },
   "outputs": [],
   "source": [
    ""
   ]
  }
 ],
 "metadata": {
  "kernelspec": {
   "display_name": "Python 3",
   "language": "python",
   "name": "python3"
  },
  "language_info": {
   "codemirror_mode": {
    "name": "ipython",
    "version": 3.0
   },
   "file_extension": ".py",
   "mimetype": "text/x-python",
   "name": "python",
   "nbconvert_exporter": "python",
   "pygments_lexer": "ipython3",
   "version": "3.6.1"
  }
 },
 "nbformat": 4,
 "nbformat_minor": 0
}