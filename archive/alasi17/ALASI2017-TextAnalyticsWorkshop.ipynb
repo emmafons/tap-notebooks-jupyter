{
 "cells": [
  {
   "cell_type": "markdown",
   "metadata": {},
   "source": [
    "## ALASI 2017 Workshop: An Introduction to Text Analysis for Learning Analytics\n",
    "\n",
    "#### Organisers: Antonette Shibani, Sophie Abel & Andrew Gibson  (UTS)\n",
    "\n",
    "In this workshop, we demonstrate how Natural Language Processing (NLP) technologies can be used to help us computationally process large scale of textual data, and we examine how these kinds of technologies can play a positive role in learning contexts.The entire session will be hands-on, interacting with a text analytics system via this Jupyter notebook which runs in Python. \n",
    "\n",
    "---\n",
    "\n",
    "### The Writing Analytics Process\n",
    "\n",
    "Using some basic writing analytics, *this notebook demonstrates the process through which pedagogy and analytics come together* in order to provide formative feedback to students on their writing.\n",
    "\n",
    "The key elements of the process are:\n",
    "\n",
    "- A clearly defined learning task\n",
    "- An understanding of the students response to the task (the writing)\n",
    "- One or more hypotheses on how aspects of the learning task may be related to computationally identifiable features in the student writing\n",
    "\n",
    "Throughout the process, the aim is to balance what is possible with the technology (i.e. Natural Language Processing - NLP) with what is valuable in terms of student learning. This is illustrated in the following diagram:\n",
    "\n",
    "<img src=\"WAlayers.png\" style=\"width: 60%;\"/>\n",
    "\n",
    "\n"
   ]
  },
  {
   "cell_type": "markdown",
   "metadata": {},
   "source": [
    "---\n",
    "\n",
    "### Writing Task Definition\n",
    "\n",
    "**Aims:** This assessment aims to develop your skills in building an argument and providing evidence to support your claims.\n",
    "\n",
    "**Task:** You will write an argumentative essay on the ethical issues arising from our treatment of animals. You will consider what rights animals should be granted and what ethical implications arise between differentiating people from animals. Your discussion should include philosophical thinking on animal ethics.\n",
    "\n",
    "In this assignment, you will: \n",
    "*\tIdentify an ethical issue \n",
    "*\tLocate 4 recent articles relevant to the issue of a sufficiently high quality to support an academic discussion \n",
    "* Link your discussion to 2 philosophers from this list: Tom Regan, Immanuel Kant, René Descartes, Thomas Aquinas, Aristotle, Peter Carruthers, Joel Feinberg, Raymond Frey, Jeremy Bentham, Peter Singer\n",
    "\n",
    "\n",
    "**Assessment:** The criteria on which your essay will be assessed is:\n",
    "\n",
    "|             Assessment Criteria            |\n",
    "| -------------        | ------------------ |\n",
    "| **Structure**        | *Clear introduction (Background, Thesis statement, discussion topics)* |\n",
    "|                      | *Selection of appropriate texts* |\n",
    "|                      | *Clear synthesis of main points* |\n",
    "|                      | *Organization of content supports argument* |\n",
    "|                      | *Suitable conclusion* |\n",
    "|**Written Expression**| *Academic writing style (third person)*  |\n",
    "|                      | *Correct English grammar, spelling and punctuation* |\n",
    "|                      | *Limit of 350 words* |\n",
    "| **Referencing**      | *Correct Harvard citation in text*     |\n",
    "|                      | *Correct Harvard reference list* |\n"
   ]
  },
  {
   "cell_type": "markdown",
   "metadata": {},
   "source": [
    "---\n",
    "\n",
    "### Student Response to Task\n",
    "\n",
    "For the above writing task, consider that a student submits an essay to receive formative feedback. We start the analytics process by loading the student writing ready for analysis."
   ]
  },
  {
   "cell_type": "code",
   "execution_count": 146,
   "metadata": {},
   "outputs": [
    {
     "name": "stdout",
     "output_type": "stream",
     "text": [
      "['Today most of us accept science. Science of today, especially Darwins Evolutionary Theory teaches us that the human race has developed from animals and that humanbeings basically are animals among other animals. Eventhough we do agree with this aspect of science we tend to consider man as the almighty, powerful, crown of creation with a natural right to treat animals as we please and use them for our own purposes as food, tools and experiment instruments, and I belive this is wrong and in this essay I will explain why we morally have no right to exploit animals. I am also going to show how meaningless many of the experiments made on animals are.', \"To begin with I would like to say that the line we draw today in order to distinguish ourselves from animals is strictly arbitrary, illogical and selfish and there isn't a quality and that includes all humanity that empowers us a narural position as top of the food chain and superiour to animals. Most humanbeings have unique capacities though, such as language and higher mental abilities than animals but it's important to emphasize that these abilities don't include all humanity, for example they don't include people with an intellectual disability, psychiatric disability or newborns (Carruthers, 1992).\", \"The concept 'animals' is very wide and include a variety of different creatures from chimpanzees to oysters. We are often very conscious about making a distinction between humans and chimpanzees but scientifically it's proved that humans are more psycologically related to chimpanzees than chimpanzees are to oysters. Thus, personally I think it would be more logical to draw the line between creatures that have consciousness and those who haven't. The animals with consciousness have feelings and goals for their existence, they have emotions and can feel pain and joy and know if a thing goes good or bad. All these animals should have the same right as humans to exist for their own sake as individuals and not being valued just for how useful they are to humans, for example, just as we wouldn't do experiments on people with intelectual disabilities we shouldnt do it to animals since intelectual abilities seem to be the things we base the world hierarcy upon.\"]\n"
     ]
    }
   ],
   "source": [
    "#Open the file and read it into a variable 'text'\n",
    "file = open(\"sampleText.txt\")\n",
    "rawtext = file.read()\n",
    "file.close()\n",
    "\n",
    "#Split the document by newlines to give us paragraphs\n",
    "doc = rawtext.split(\"\\n\")\n",
    "print(doc)"
   ]
  },
  {
   "cell_type": "markdown",
   "metadata": {},
   "source": [
    "However, this is not very human friendly output. A better display might be to use the HTML of the browser. To do this, we need to load some additional python libraries."
   ]
  },
  {
   "cell_type": "code",
   "execution_count": 147,
   "metadata": {},
   "outputs": [
    {
     "data": {
      "text/html": [
       "<p>Today most of us accept science. Science of today, especially Darwins Evolutionary Theory teaches us that the human race has developed from animals and that humanbeings basically are animals among other animals. Eventhough we do agree with this aspect of science we tend to consider man as the almighty, powerful, crown of creation with a natural right to treat animals as we please and use them for our own purposes as food, tools and experiment instruments, and I belive this is wrong and in this essay I will explain why we morally have no right to exploit animals. I am also going to show how meaningless many of the experiments made on animals are.</p><p>To begin with I would like to say that the line we draw today in order to distinguish ourselves from animals is strictly arbitrary, illogical and selfish and there isn't a quality and that includes all humanity that empowers us a narural position as top of the food chain and superiour to animals. Most humanbeings have unique capacities though, such as language and higher mental abilities than animals but it's important to emphasize that these abilities don't include all humanity, for example they don't include people with an intellectual disability, psychiatric disability or newborns (Carruthers, 1992).</p><p>The concept 'animals' is very wide and include a variety of different creatures from chimpanzees to oysters. We are often very conscious about making a distinction between humans and chimpanzees but scientifically it's proved that humans are more psycologically related to chimpanzees than chimpanzees are to oysters. Thus, personally I think it would be more logical to draw the line between creatures that have consciousness and those who haven't. The animals with consciousness have feelings and goals for their existence, they have emotions and can feel pain and joy and know if a thing goes good or bad. All these animals should have the same right as humans to exist for their own sake as individuals and not being valued just for how useful they are to humans, for example, just as we wouldn't do experiments on people with intelectual disabilities we shouldnt do it to animals since intelectual abilities seem to be the things we base the world hierarcy upon.</p>"
      ],
      "text/plain": [
       "<IPython.core.display.HTML object>"
      ]
     },
     "metadata": {},
     "output_type": "display_data"
    }
   ],
   "source": [
    "#Libraries contain functions that we can use to perform complex tasks without rewriting many lines of code\n",
    "from IPython.core.display import display, HTML  # Allows us to create annotated text using HTML and CSS\n",
    "\n",
    "#A function to wrap text in a paragraph tag\n",
    "def pTag(text):\n",
    "    return \"<p>\"+text+\"</p>\"\n",
    "\n",
    "#Wrap each paragraph of the doc for HTML display\n",
    "paras = map(pTag,doc)\n",
    "htmlDoc = HTML(''.join(paras))\n",
    "\n",
    "display(htmlDoc)"
   ]
  },
  {
   "cell_type": "markdown",
   "metadata": {},
   "source": [
    "> ** DISCUSSION **\n",
    ">\n",
    ">  - What types of feedback can we give to improve this essay? \n",
    ">  - Can we try to automate this feedback (on certain criteria) using textual features?"
   ]
  },
  {
   "cell_type": "markdown",
   "metadata": {},
   "source": [
    "---\n",
    "\n",
    "### Langage features in the writing\n",
    "\n",
    "Let's now identify language features to provide useful feedback on the given essay. This is a ground-up approach where we first look at the pedagogial context to identify the scope of automated feedback and then bring in the analytics where it fits in.\n",
    "\n",
    "Some example features that we can use to provide feedback in this context are below:\n",
    "* Structural Metrics (sentence, word level)\n",
    "* Vocabulary\n",
    "* Mechanics (spelling, grammar)\n",
    "* Rhetorical structures\n",
    "* Referencing formats\n"
   ]
  },
  {
   "cell_type": "markdown",
   "metadata": {},
   "source": [
    "---\n",
    "\n",
    "### Formulating and refining hypotheses\n",
    "\n",
    "**Writing Anaytics involves formulating hypothesis around how computation and pedagogy might connect in a way that provides practical learning benefits for the student.**\n",
    "\n",
    "Each hypothesis should specific and testable. That is, the practical results of it working should be clearly identifiable. They are not lofty ideals or goals - if they test true then there should be real practical learning benefits for the student. \n",
    "\n",
    "In this example, we will focus on how simple features in the text may be computationally identifiable and turned into formative feedback for the student. We make use of our context knowledge, theory and text observations to formulate and refine these hypothesis. \n",
    "\n",
    "Example hypotheses: \n",
    "1. Feedback on the readability could be created from the detection of long sentences.\n",
    "2. Feedback on referencing requirements of the task could be generated from the presence of names in the text.\n",
    "3. Feedback on writing as third person could generated from the idenfication of first person pronouns. \n",
    "4. Feedback on wordiness could be based on the presence of too many adjectives.\n",
    "\n",
    "For each hypothesis, code is written to analyse the text and create formative feedback for the student based on the analytics. In a complete scenario, the students reaction to this feedback would be analysed providing an evaluation of the hypothesis. On the basis of this evaluation, the hypothesis could be refined, or other aspects of the process could be adjusted to improve the practical outcomes for the student."
   ]
  },
  {
   "cell_type": "markdown",
   "metadata": {},
   "source": [
    "---\n",
    "\n",
    "## Implementation\n",
    "\n",
    "### Hypothesis 1 - feedback on readability\n",
    "\n",
    "We will make use of the open-source API called [Text Analytics Pipeline (TAP)](https://github.com/uts-cic/tap) to receive analytics about the text. To use TAP's analytics capability, we need to query the TAP graphql endpoint with the text that we want analysed. To do this, we need to construct the ```query``` , and a ```request header``` to tell TAP about the data format. Requesting for and receiving analytics from TAP consists of the following steps:"
   ]
  },
  {
   "cell_type": "markdown",
   "metadata": {},
   "source": [
    "**[1]** Write a function to get json data from TAP based on a given query"
   ]
  },
  {
   "cell_type": "code",
   "execution_count": 148,
   "metadata": {},
   "outputs": [],
   "source": [
    "import json                                 # We need to be able to work whith JSON\n",
    "from urllib import request, response        # To create requests to TAP and handle responses from TAP\n",
    "import string                               # To help with cleaning text and visualising analytics\n",
    "\n",
    "def getJsonFromTAP(query,text,url):\n",
    "    variables = {'input': text}\n",
    "    escapedQuery = query.replace(\"\\n\", \"\\\\n\") #query.encode('utf8').decode('unicode_escape')\n",
    "    fullQuery = json.dumps({'query': escapedQuery, 'variables': variables})\n",
    "    jsonHeader = {'Content-Type':'application/json'}\n",
    "    tapReq = request.Request(url, data = fullQuery.encode('utf8'), headers = jsonHeader)\n",
    "    tapResponse = \"\"\n",
    "    try:\n",
    "        tapResponse = request.urlopen(tapReq)\n",
    "        body = tapResponse.read().decode('utf8')           \n",
    "        return json.loads(body)\n",
    "    except Exception as e:\n",
    "        print(e)\n",
    "        return json.dumps({})\n",
    "    "
   ]
  },
  {
   "cell_type": "markdown",
   "metadata": {},
   "source": [
    "**[2]** Create the query and get analytics from TAP"
   ]
  },
  {
   "cell_type": "code",
   "execution_count": 149,
   "metadata": {},
   "outputs": [
    {
     "name": "stdout",
     "output_type": "stream",
     "text": [
      "Output json object from TAP:\n",
      "\n",
      "{'data': {'metrics': {'analytics': {'words': 378, 'sentences': 11, 'sentWordCounts': [6, 26, 66, 16, 54, 46, 17, 31, 23, 29, 64], 'averageSentWordCount': 34.36363636363637}}}}\n"
     ]
    }
   ],
   "source": [
    "# A Query for sentence level metrics query for TAP with given text\n",
    "metricsQuery = \"query Metrics($input: String!){ metrics(text: $input) { analytics {words, sentences, sentWordCounts, averageSentWordCount } } }\"\n",
    "\n",
    "tapUrl = \"http://tap-test.utscic.edu.au/\"   # TAP URL\n",
    "endpoint = \"graphql\"                        # The query endpoint on TAP\n",
    "completeUrl = tapUrl + endpoint             # The complete url that the request is posted to\n",
    "\n",
    "# Send the query to TAP along with the text to be analysed\n",
    "jsonData = getJsonFromTAP(metricsQuery,rawtext,completeUrl)\n",
    "print(\"Output json object from TAP:\\n\")\n",
    "print(jsonData)"
   ]
  },
  {
   "cell_type": "markdown",
   "metadata": {},
   "source": [
    "**[5]** Extract some general sentence-level metrics to provide summary statistics, and sentence word counts to provide specific feedback."
   ]
  },
  {
   "cell_type": "code",
   "execution_count": 150,
   "metadata": {},
   "outputs": [],
   "source": [
    "# Get the metrics from the returned JSON\n",
    "wordCount = jsonData.get('data').get('metrics').get('analytics').get('words') \n",
    "sentCount = jsonData.get('data').get('metrics').get('analytics').get('sentences')\n",
    "avgSentWordCount = jsonData.get('data').get('metrics').get('analytics').get('averageSentWordCount')\n",
    "avgSentWordCount = round(avgSentWordCount,2)\n",
    "sentWordCounts = jsonData.get('data').get('metrics').get('analytics').get('sentWordCounts')\n",
    "\n",
    "# Get the sentence length standard deviation\n",
    "import statistics as stats\n",
    "stddev = stats.stdev(sentWordCounts)\n",
    "\n",
    "# A threshold for long sentences\n",
    "threshold = int(avgSentWordCount)+int(stddev)\n",
    "\n",
    "def longSents(sentCounts,threshold):\n",
    "    return [i+1 for i,x in enumerate(sentCounts) if x >= threshold]\n",
    "\n",
    "longSentences = longSents(sentWordCounts,threshold)"
   ]
  },
  {
   "cell_type": "markdown",
   "metadata": {},
   "source": [
    "**[6]** Display the results\n",
    "\n",
    "Teachers may be interested in basic metrics associated with student texts"
   ]
  },
  {
   "cell_type": "code",
   "execution_count": 151,
   "metadata": {},
   "outputs": [
    {
     "name": "stdout",
     "output_type": "stream",
     "text": [
      "\u001b[91m<<<<< SUMMARY STATS FOR TEACHER >>>>>\n",
      "\u001b[0m\n",
      "Total Words:  378\n",
      "Total Sentences:  11\n",
      "Average Words in a sentence:  34.36\n",
      "Long sentence threshold:  54\n",
      "Long sentences:  [3, 5, 11]\n"
     ]
    }
   ],
   "source": [
    "#Defining formatting options for the text\n",
    "class color:\n",
    "   PURPLE = '\\033[95m'\n",
    "   CYAN = '\\033[96m'\n",
    "   DARKCYAN = '\\033[36m'\n",
    "   BLUE = '\\033[94m'\n",
    "   GREEN = '\\033[92m'\n",
    "   YELLOW = '\\033[93m'\n",
    "   RED = '\\033[91m'\n",
    "   BOLD = '\\033[1m'\n",
    "   UNDERLINE = '\\033[4m'\n",
    "   END = '\\033[0m'\n",
    "\n",
    "#print(color.BOLD+\"Your text:\\n\"+color.END,ta.value,\"\\n\")\n",
    "print(color.RED +\"<<<<< SUMMARY STATS FOR TEACHER >>>>>\\n\"+color.END)\n",
    "\n",
    "## General summary statistics of the text\n",
    "#print(color.BOLD+\"Summary Statistics on your text:\"+color.END)\n",
    "\n",
    "print (\"Total Words: \",wordCount)\n",
    "print (\"Total Sentences: \",sentCount)\n",
    "print (\"Average Words in a sentence: \",avgSentWordCount)\n",
    "print (\"Long sentence threshold: \",threshold)\n",
    "print (\"Long sentences: \",longSentences)"
   ]
  },
  {
   "cell_type": "markdown",
   "metadata": {},
   "source": [
    "For student facing feedback, we need to consider what may be helpful to the student. For these simple metrics, the total word count could be useful (if a length was set for the assignment), and making the student aware of long sentences may be helpful.\n",
    "\n",
    "Adapting the paragraph html display above, we can highlight long sentences.\n"
   ]
  },
  {
   "cell_type": "code",
   "execution_count": 152,
   "metadata": {},
   "outputs": [
    {
     "data": {
      "text/html": [
       "\n",
       "<style>\n",
       ".feedback {\n",
       "    color: darkslateblue;\n",
       "}\n",
       ".long {\n",
       "    background-color: yellow;\n",
       "}\n",
       "</style>\n",
       "\n"
      ],
      "text/plain": [
       "<IPython.core.display.HTML object>"
      ]
     },
     "metadata": {},
     "output_type": "display_data"
    },
    {
     "data": {
      "text/html": [
       "\n",
       "<h4>Feedback</h4>\n",
       "<p class=\"feedback\"><b>Long Sentences - </b>When you write, consider making it easy for the reader. Sentences that are\n",
       "too long can be difficult to read. They can cause the reader to re-read the sentence multiple times to try and \n",
       "understand it, interrupting the flow of the text. Sentences that may be too long are <span class=\"long\">highlighted \n",
       "in yellow</span>. Consider breaking these into smaller sentences to help make your writing easier to read.</p>\n",
       "\n",
       "<p><b>Your text:</b></p>\n",
       "<p>Today most of us accept science. Science of today, especially Darwins Evolutionary Theory teaches us that the human race has developed from animals and that humanbeings basically are animals among other animals. <span class=\"long\">Eventhough we do agree with this aspect of science we tend to consider man as the almighty, powerful, crown of creation with a natural right to treat animals as we please and use them for our own purposes as food, tools and experiment instruments, and I belive this is wrong and in this essay I will explain why we morally have no right to exploit animals.</span> I am also going to show how meaningless many of the experiments made on animals are.</p><p>To begin with I would like to say that the line we draw today in order to distinguish ourselves from animals is strictly arbitrary, illogical and selfish and there isn't a quality and that includes all humanity that empowers us a narural position as top of the food chain and superiour to animals. Most humanbeings have unique capacities though, such as language and higher mental abilities than animals but it's important to emphasize that these abilities don't include all humanity, for example they don't include people with an intellectual disability, psychiatric disability or newborns (Carruthers, 1992).</p><p>The concept 'animals' is very wide and include a variety of different creatures from chimpanzees to oysters. We are often very conscious about making a distinction between humans and chimpanzees but scientifically it's proved that humans are more psycologically related to chimpanzees than chimpanzees are to oysters. <span class=\"long\">Thus, personally I think it would be more logical to draw the line between creatures that have consciousness and those who haven't.</span> The animals with consciousness have feelings and goals for their existence, they have emotions and can feel pain and joy and know if a thing goes good or bad. <span class=\"long\">All these animals should have the same right as humans to exist for their own sake as individuals and not being valued just for how useful they are to humans, for example, just as we wouldn't do experiments on people with intelectual disabilities we shouldnt do it to animals since intelectual abilities seem to be the things we base the world hierarcy upon.</span></p>"
      ],
      "text/plain": [
       "<IPython.core.display.HTML object>"
      ]
     },
     "metadata": {},
     "output_type": "display_data"
    }
   ],
   "source": [
    "# TAP can return the sentences from the text...\n",
    "\n",
    "#A function to wrap text in a span tag with 'long' class\n",
    "def longTag(kv):\n",
    "    idx = kv[0]+1\n",
    "    text = kv[1]\n",
    "    if idx in longSentences:\n",
    "        return '<span class=\"long\">'+text+'</span>'\n",
    "    else: \n",
    "        return text\n",
    "    \n",
    "def markupParaSentences(para):\n",
    "    sentencesQuery = \"query Sentences($input: String!){ annotations(text: $input) { analytics {idx, original, tokens { term }} }}\"\n",
    "    jsonData = getJsonFromTAP(sentencesQuery,para,completeUrl)\n",
    "    sentencesJson = jsonData.get('data').get('annotations').get('analytics') #.get('original') \n",
    "    def getSentence(json):\n",
    "        return (json.get('idx'),json.get('original'))\n",
    "    sentences = map(getSentence,sentencesJson)\n",
    "    pText =  ' '.join(map(longTag,sentences))\n",
    "    return '<p>'+pText+'</p>'\n",
    "\n",
    "comment = \"\"\"\n",
    "<h4>Feedback</h4>\n",
    "<p class=\"feedback\"><b>Long Sentences - </b>When you write, consider making it easy for the reader. Sentences that are\n",
    "too long can be difficult to read. They can cause the reader to re-read the sentence multiple times to try and \n",
    "understand it, interrupting the flow of the text. Sentences that may be too long are <span class=\"long\">highlighted \n",
    "in yellow</span>. Consider breaking these into smaller sentences to help make your writing easier to read.</p>\n",
    "\n",
    "<p><b>Your text:</b></p>\n",
    "\"\"\"\n",
    "html = HTML(comment + ''.join(map(markupParaSentences,doc)))\n",
    "\n",
    "css = HTML(\"\"\"\n",
    "<style>\n",
    ".feedback {\n",
    "    color: darkslateblue;\n",
    "}\n",
    ".long {\n",
    "    background-color: yellow;\n",
    "}\n",
    "</style>\n",
    "\n",
    "\"\"\")\n",
    "\n",
    "display(css,html)"
   ]
  },
  {
   "cell_type": "markdown",
   "metadata": {},
   "source": [
    "> ** DISCUSSION **\n",
    ">\n",
    ">  - Is this writing feedback applicable for all kinds of writing?\n",
    ">  - Can the feedback be better expressed?\n",
    ">  - Can we come up with a statistically valid threshold for the maximum words allowed in a sentence?\n"
   ]
  },
  {
   "cell_type": "markdown",
   "metadata": {},
   "source": [
    "---\n",
    "\n",
    "### Hypothesis 2 - feedback on refering to sources\n",
    "\n",
    "This hypothesis is based around linking the identification of Named Entities (People, Organisations, Locations, Dates) to the requirement in the learning task to refer to at least 2 philosophers in a given list. By extracting names, we should be able to check this requirement."
   ]
  },
  {
   "cell_type": "code",
   "execution_count": 153,
   "metadata": {},
   "outputs": [
    {
     "name": "stdout",
     "output_type": "stream",
     "text": [
      "['Darwins', 'Evolutionary', 'Theory', 'Carruthers']\n"
     ]
    }
   ],
   "source": [
    "#Extracting named entities from the input text using NER\n",
    "\n",
    "# function to extract the tags\n",
    "def getPosNer(json):\n",
    "    return(json.get('term'),json.get('nertag'),json.get('postag'))\n",
    "    \n",
    "# function to get a list of tokens from a sentence\n",
    "def getTokens(json):\n",
    "    tokens = json.get('tokens')\n",
    "    return list(map(getPosNer,tokens))\n",
    "\n",
    "# the main function that initiates the TAP query and extracts the results\n",
    "def getTags(para):\n",
    "    query = \"query TokeniseWithNer($input: String!){  annotations(text:$input,pipetype:\\\"ner\\\") { analytics {tokens {term,postag, nertag} } }}\"\n",
    "    jsonData = getJsonFromTAP(query,para,completeUrl)\n",
    "    annotationsJson = jsonData.get('data').get('annotations').get('analytics') #.get('original')\n",
    "    return list(map(getTokens,annotationsJson))\n",
    "\n",
    "# function to turn a nested list into a list of strings\n",
    "def flatten(nestList):\n",
    "    newList = []\n",
    "    for lst in nestList:\n",
    "        for tups in lst:\n",
    "            newList = newList + tups\n",
    "    return newList\n",
    "\n",
    "# a filter for named entities\n",
    "def isNE(tagTuple):\n",
    "    return tagTuple[1] != 'O'\n",
    "\n",
    "# extract terms from the tuple\n",
    "def getTerms(tagTuple):\n",
    "    return tagTuple[0]\n",
    "\n",
    "\n",
    "# put all of the above functions together...\n",
    "\n",
    "# get the tags\n",
    "tags = flatten(map(getTags,doc))\n",
    "#print(tags)\n",
    "\n",
    "# get the named entities\n",
    "names = list(map(getTerms,filter(isNE,tags)))\n",
    "print(names)"
   ]
  },
  {
   "cell_type": "markdown",
   "metadata": {},
   "source": [
    "The named entities found in the student's text need to be cross checked with those required by the task. For the purposes of this example, the task names are manually entered into the `definednames` list."
   ]
  },
  {
   "cell_type": "code",
   "execution_count": 154,
   "metadata": {},
   "outputs": [
    {
     "name": "stdout",
     "output_type": "stream",
     "text": [
      "Included philosophers:  ['Carruthers']\n",
      "Missing philosophers:  ['Aristotle', 'Aquinas', 'Singer', 'Descartes', 'Frey', 'Kant', 'Bentham', 'Feinberg', 'Regan']\n"
     ]
    }
   ],
   "source": [
    "definednames = ['Regan', 'Kant', 'Descartes', 'Aquinas', 'Aristotle', 'Carruthers', 'Feinberg', 'Frey', 'Bentham', 'Singer']\n",
    "\n",
    "#Find the list of names also present in our defined list of authors\n",
    "included = list(set(definednames).intersection(set(names)))\n",
    "print(\"Included philosophers: \",included)\n",
    "\n",
    "#Find the list of names missing in the input text\n",
    "missing = list(set(definednames)-set(names))\n",
    "print(\"Missing philosophers: \",missing)\n"
   ]
  },
  {
   "cell_type": "markdown",
   "metadata": {},
   "source": [
    "The task required that a minimum of 2 philosophers were included, so we generate a feedback message along these lines based on the analysis results. "
   ]
  },
  {
   "cell_type": "code",
   "execution_count": 160,
   "metadata": {},
   "outputs": [
    {
     "data": {
      "text/html": [
       "\n",
       "<style>\n",
       ".included {\n",
       "    color: green;\n",
       "}\n",
       ".missing {\n",
       "    color: red;\n",
       "}\n",
       "</style>\n",
       "\n"
      ],
      "text/plain": [
       "<IPython.core.display.HTML object>"
      ]
     },
     "metadata": {},
     "output_type": "display_data"
    },
    {
     "data": {
      "text/html": [
       "<h4>Feedback</h4>\n",
       "    <p class=\"feedback\"><b>Refering to authoritive sources - </b>It is important to refer to authoritative sources\n",
       "    in your writing.</p><p class=\"feedback\">The assessment task requires that you refer to a minimum number of authoritative sources,\n",
       "    yet it appears that you have <b>not</b> met this requirement. Check the list of missing sources and consider \n",
       "    how you might modify your text.</p><p><span class=\"feedback\">Sources included: </span>\n",
       "        <span class=\"included\">Carruthers</span></p><p><span class=\"feedback\">Sources not included: </span>\n",
       "        <span class=\"missing\">Aristotle, Aquinas, Singer, Descartes, Frey, Kant, Bentham, Feinberg, Regan</span></p>"
      ],
      "text/plain": [
       "<IPython.core.display.HTML object>"
      ]
     },
     "metadata": {},
     "output_type": "display_data"
    }
   ],
   "source": [
    "def referenceFeedback(included,missing,threshold):\n",
    "    header = \"\"\"<h4>Feedback</h4>\n",
    "    <p class=\"feedback\"><b>Refering to authoritive sources - </b>It is important to refer to authoritative sources\n",
    "    in your writing.</p>\"\"\"\n",
    "\n",
    "    negFeedback =  \"\"\"<p class=\"feedback\">The assessment task requires that you refer to a minimum number of authoritative sources,\n",
    "    yet it appears that you have <b>not</b> met this requirement. Check the list of missing sources and consider \n",
    "    how you might modify your text.</p>\"\"\"\n",
    "\n",
    "    posFeedback = \"\"\"<p class=\"feedback\">It appears that you have met the task requirement to refer to a minimum number of sources.</p>\"\"\"\n",
    "    \n",
    "    footer_incl = \"\"\"<p><span class=\"feedback\">Sources included: </span>\n",
    "        <span class=\"included\">\"\"\"+ ', '.join(included) + \"</span></p>\"\n",
    "    footer_miss = \"\"\"<p><span class=\"feedback\">Sources not included: </span>\n",
    "        <span class=\"missing\">\"\"\"+ ', '.join(missing) + \"</span></p>\"\n",
    "\n",
    "    if(len(included)<threshold):\n",
    "        return header + negFeedback + footer_incl + footer_miss\n",
    "    else:\n",
    "        return header + posFeedback + footer_incl\n",
    "\n",
    "\n",
    "css = HTML(\"\"\"\n",
    "<style>\n",
    ".included {\n",
    "    color: green;\n",
    "}\n",
    ".missing {\n",
    "    color: red;\n",
    "}\n",
    "</style>\n",
    "\n",
    "\"\"\")\n",
    "\n",
    "feedback = HTML(referenceFeedback(included,missing,2))\n",
    "display(css,feedback)"
   ]
  },
  {
   "cell_type": "markdown",
   "metadata": {},
   "source": [
    "> ** DISCUSSION **\n",
    ">\n",
    ">  - Can we define list of author names automatically?\n",
    ">  - Can we extract them from the given assessment task/ criteria for scalablility?\n"
   ]
  },
  {
   "cell_type": "markdown",
   "metadata": {},
   "source": [
    "---\n",
    "\n",
    "### Hypotheses 3 & 4 - feedback on first person and wordiness"
   ]
  },
  {
   "cell_type": "markdown",
   "metadata": {},
   "source": [
    "Next, we are going to generate writing feedback based on the parts-of-speech (pos) used in the text. We'll make use of hypotheses 3 and 4 to analyse text by identifying `personal pronouns` and `adjectives` present in the text. We hypothesize that good academic writing should not contain personal pronouns to ensure formal language. We also hypothesize that if a text contains many adjectives, it leads to wordy text with less clarity."
   ]
  },
  {
   "cell_type": "code",
   "execution_count": 156,
   "metadata": {},
   "outputs": [
    {
     "name": "stdout",
     "output_type": "stream",
     "text": [
      "{'we', 'I', 'We', 'our', 'ourselves', 'us'}\n"
     ]
    }
   ],
   "source": [
    "#Looking for personal pronoun usage in the text\n",
    "def isFirstPerson(tagTuple):\n",
    "    return tagTuple[2].startswith('PRP') and tagTuple[0].lower() not in ['they','their','it','them']\n",
    "\n",
    "personal = set(map(getTerms,filter(isFirstPerson,tags)))\n",
    "print(personal)"
   ]
  },
  {
   "cell_type": "code",
   "execution_count": 157,
   "metadata": {},
   "outputs": [
    {
     "name": "stdout",
     "output_type": "stream",
     "text": [
      "{'important', 'just', 'human', 'such', 'different', 'often', 'logical', 'own', 'morally', \"n't\", 'natural', 'mental', 'illogical', 'also', 'personally', 'selfish', 'especially', 'very', 'most', 'strictly', 'same', 'narural', 'wrong', 'useful', 'Thus', 'unique', 'meaningless', 'Most', 'arbitrary', 'psychiatric', 'not', 'intellectual', 'powerful', 'scientifically', 'though', 'wide', 'other', 'higher', 'bad', 'basically', 'psycologically', 'intelectual', 'good', 'more', 'conscious', 'many'}\n"
     ]
    }
   ],
   "source": [
    "#Looking for qualifier term usage in the text (adjectives, adverbs)\n",
    "def isQualifier(tagTuple):\n",
    "    return tagTuple[2].startswith('JJ') or tagTuple[2].startswith('RB') \n",
    "\n",
    "qualifier = set(map(getTerms,filter(isQualifier,tags)))\n",
    "print(qualifier)\n",
    "#qualterms =[]\n",
    "#myposlist2 = ['RB','RBR','RBS','JJ','JJR','JJS']\n",
    "#myposlist2 = ['JJ','JJR','JJS']\n",
    "#for key, value in posdict.items():\n",
    "#    if value in myposlist2:\n",
    "#        qualterms.append(key)\n",
    "        \n",
    "#print(qualterms)"
   ]
  },
  {
   "cell_type": "markdown",
   "metadata": {},
   "source": [
    "To provide writing feedback, let's also annotate the given text this time along with the feedback comments. This can help direct students' attention to certain parts of essay for improvements."
   ]
  },
  {
   "cell_type": "code",
   "execution_count": 158,
   "metadata": {},
   "outputs": [
    {
     "data": {
      "text/html": [
       "\n",
       "<style>\n",
       ".feedback {\n",
       "    color: darkslateblue;\n",
       "}\n",
       ".firstperson {\n",
       "    color: red;\n",
       "}\n",
       ".qualifier {\n",
       "    color: blue;\n",
       "}\n",
       "</style>\n",
       "\n"
      ],
      "text/plain": [
       "<IPython.core.display.HTML object>"
      ]
     },
     "metadata": {},
     "output_type": "display_data"
    },
    {
     "data": {
      "text/html": [
       "\n",
       "<h4>Feedback</h4>\n",
       "<p class=\"feedback\"><b>Third person language - </b>This task requires that you write from a third person point of view\n",
       "which means that you should avoid referring to yourself. You have used a number of first person pronouns in your writing,\n",
       "and these should be avoided. For example, instead of saying \"I agree with position X\", you may say something like \"X is\n",
       "a strong position because...\" or \"Smith agrees with position X\". First person language identified in your writing \n",
       "below with <span class=\"firstperson\">red colouring</span>.\n",
       "</p>\n",
       "<p class=\"feedback\"><b>Wordiness - </b>Using too many unnecessary words can result in your writing losing clarity, and \n",
       "result in it being more difficult to read. In your text below, adjectives and adverbs are <span class=\"qualifier\">\n",
       "coloured blue</span>. In sentences where there are many blue words, try changing the sentence so that you say the same\n",
       "thing, but with less words.\n",
       "</p>\n",
       "<p><b>Your text:</b></p>\n",
       "<p>Today <span class=\"qualifier\">most</span> of <span class=\"firstperson\">us</span> accept science. Science of today, <span class=\"qualifier\">especially</span> Darwins Evolutionary Theory teaches <span class=\"firstperson\">us</span> that the <span class=\"qualifier\">human</span> race has developed from animals and that humanbeings <span class=\"qualifier\">basically</span> are animals among <span class=\"qualifier\">other</span> animals. Eventhough <span class=\"firstperson\">we</span> do agree with this aspect of science <span class=\"firstperson\">we</span> tend to consider man as the almighty, <span class=\"qualifier\">powerful</span>, crown of creation with a <span class=\"qualifier\">natural</span> right to treat animals as <span class=\"firstperson\">we</span> please and use them for <span class=\"firstperson\">our</span> <span class=\"qualifier\">own</span> purposes as food, tools and experiment instruments, and <span class=\"firstperson\">I</span> belive this is <span class=\"qualifier\">wrong</span> and in this essay <span class=\"firstperson\">I</span> will explain why <span class=\"firstperson\">we</span> <span class=\"qualifier\">morally</span> have no right to exploit animals. <span class=\"firstperson\">I</span> am <span class=\"qualifier\">also</span> going to show how <span class=\"qualifier\">meaningless</span> <span class=\"qualifier\">many</span> of the experiments made on animals are.</p><p>To begin with <span class=\"firstperson\">I</span> would like to say that the line <span class=\"firstperson\">we</span> draw today in order to distinguish <span class=\"firstperson\">ourselves</span> from animals is <span class=\"qualifier\">strictly</span> <span class=\"qualifier\">arbitrary</span>, <span class=\"qualifier\">illogical</span> and <span class=\"qualifier\">selfish</span> and there isn't a quality and that includes all humanity that empowers <span class=\"firstperson\">us</span> a <span class=\"qualifier\">narural</span> position as top of the food chain and superiour to animals. <span class=\"qualifier\">Most</span> humanbeings have <span class=\"qualifier\">unique</span> capacities <span class=\"qualifier\">though</span>, <span class=\"qualifier\">such</span> as language and <span class=\"qualifier\">higher</span> <span class=\"qualifier\">mental</span> abilities than animals but it's <span class=\"qualifier\">important</span> to emphasize that these abilities don't include all humanity, for example they don't include people with an <span class=\"qualifier\">intellectual</span> disability, <span class=\"qualifier\">psychiatric</span> disability or newborns (Carruthers, 1992).</p><p>The concept 'animals' is <span class=\"qualifier\">very</span> <span class=\"qualifier\">wide</span> and include a variety of <span class=\"qualifier\">different</span> creatures from chimpanzees to oysters. <span class=\"firstperson\">We</span> are <span class=\"qualifier\">often</span> <span class=\"qualifier\">very</span> <span class=\"qualifier\">conscious</span> about making a distinction between humans and chimpanzees but <span class=\"qualifier\">scientifically</span> it's proved that humans are <span class=\"qualifier\">more</span> <span class=\"qualifier\">psycologically</span> related to chimpanzees than chimpanzees are to oysters. <span class=\"qualifier\">Thus</span>, <span class=\"qualifier\">personally</span> <span class=\"firstperson\">I</span> think it would be <span class=\"qualifier\">more</span> <span class=\"qualifier\">logical</span> to draw the line between creatures that have consciousness and those who haven't. The animals with consciousness have feelings and goals for their existence, they have emotions and can feel pain and joy and know if a thing goes <span class=\"qualifier\">good</span> or <span class=\"qualifier\">bad</span>. All these animals should have the <span class=\"qualifier\">same</span> right as humans to exist for their <span class=\"qualifier\">own</span> sake as individuals and <span class=\"qualifier\">not</span> being valued <span class=\"qualifier\">just</span> for how <span class=\"qualifier\">useful</span> they are to humans, for example, <span class=\"qualifier\">just</span> as <span class=\"firstperson\">we</span> wouldn't do experiments on people with <span class=\"qualifier\">intelectual</span> disabilities <span class=\"firstperson\">we</span> shouldnt do it to animals since <span class=\"qualifier\">intelectual</span> abilities seem to be the things <span class=\"firstperson\">we</span> base the world hierarcy upon.</p>"
      ],
      "text/plain": [
       "<IPython.core.display.HTML object>"
      ]
     },
     "metadata": {},
     "output_type": "display_data"
    }
   ],
   "source": [
    "import re\n",
    "\n",
    "def markupTerms(text,terms,classname):\n",
    "    for term in terms:\n",
    "        s = {}\n",
    "        s[0] = term\n",
    "        s[1] = '<span class=\"'+classname+'\">'+term+'</span>'\n",
    "        text = re.sub(r\"\\b%s\\b\" % s[0] , s[1], text)\n",
    "    return text\n",
    "\n",
    "def markupFirstPerson(text):\n",
    "    return markupTerms(text,personal,\"firstperson\")\n",
    "\n",
    "def markupQualifiers(text):\n",
    "    return markupTerms(text,qualifier,\"qualifier\")\n",
    "\n",
    "def wrapPara(text):\n",
    "    return '<p>'+text+'</p>'\n",
    "    \n",
    "comment = \"\"\"\n",
    "<h4>Feedback</h4>\n",
    "<p class=\"feedback\"><b>Third person language - </b>This task requires that you write from a third person point of view\n",
    "which means that you should avoid referring to yourself. You have used a number of first person pronouns in your writing,\n",
    "and these should be avoided. For example, instead of saying \"I agree with position X\", you may say something like \"X is\n",
    "a strong position because...\" or \"Smith agrees with position X\". First person language identified in your writing \n",
    "below with <span class=\"firstperson\">red colouring</span>.\n",
    "</p>\n",
    "<p class=\"feedback\"><b>Wordiness - </b>Using too many unnecessary words can result in your writing losing clarity, and \n",
    "result in it being more difficult to read. In your text below, adjectives and adverbs are <span class=\"qualifier\">\n",
    "coloured blue</span>. In sentences where there are many blue words, try changing the sentence so that you say the same\n",
    "thing, but with less words.\n",
    "</p>\n",
    "<p><b>Your text:</b></p>\n",
    "\"\"\"\n",
    "\n",
    "markedup = map(wrapPara,map(markupQualifiers,map(markupFirstPerson,doc)))\n",
    "html = HTML(comment + ''.join(markedup))\n",
    "\n",
    "css = HTML(\"\"\"\n",
    "<style>\n",
    ".feedback {\n",
    "    color: darkslateblue;\n",
    "}\n",
    ".firstperson {\n",
    "    color: red;\n",
    "}\n",
    ".qualifier {\n",
    "    color: blue;\n",
    "}\n",
    "</style>\n",
    "\n",
    "\"\"\")\n",
    "\n",
    "display(css,html)"
   ]
  },
  {
   "cell_type": "markdown",
   "metadata": {},
   "source": [
    "> ** DISCUSSION **\n",
    ">\n",
    ">  - Do you see any problem with this feedback? \n",
    ">  - Does text analytics pick all the right words that need changing?\n"
   ]
  }
 ],
 "metadata": {
  "kernelspec": {
   "display_name": "Python 3",
   "language": "python",
   "name": "python3"
  },
  "widgets": {
   "state": {
    "45993015ea854d58907dd1ded7b34222": {
     "views": [
      {
       "cell_index": 15
      }
     ]
    }
   },
   "version": "1.2.0"
  }
 },
 "nbformat": 4,
 "nbformat_minor": 1
}
