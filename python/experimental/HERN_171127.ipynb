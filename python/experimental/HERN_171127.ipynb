{
 "cells": [
  {
   "cell_type": "markdown",
   "metadata": {},
   "source": [
    "## Reflecting, writing, and analytics: What can we learn from student text as data?\n",
    "### HERN Workshop - 27 Nov 2017\n",
    "\n",
    "What does a students’ language say about their learning? When they put their personal thoughts into words, what does it reveal about them, their thinking, and their interactions with others? In this workshop we will explore some of the ways reflective writing can be used for learning, and take an introductory look at how we can discover meaningful aspects of the writing through computational analysis. During the workshop, we will experiment with a couple of tools for analysing writing, examine some cases of how these tools were used for learning, and we will establish some important principles for using writing analytics in a learning and teaching context."
   ]
  },
  {
   "cell_type": "markdown",
   "metadata": {},
   "source": []
  },
  {
   "cell_type": "markdown",
   "metadata": {},
   "source": [
    "### A couple of RWA examples \n",
    "\n",
    "#### Academic Reflective Writing\n",
    "\n",
    "[Academic Writing Analytics (AWA)](http://awa.uts.edu.au/) \n",
    "\n",
    "- Login using AAF\n",
    "- Try examplar reflections\n",
    "- Look at the theoretical framework for reflective writing\n",
    "- Examine how the framework links throught to the feedback\n",
    "\n",
    "#### Reflection and Metacognition\n",
    "\n",
    "[Towards the Discovery of Learner Metacognition From Reflective Writing](http://nlytx.io/2016/metacognition/index.html) \n",
    "\n",
    "- Try different examples and view the features\n",
    "- Look at the theoretical link between metacognition and reflection\n",
    "- Examine how the theory translates to the features"
   ]
  },
  {
   "cell_type": "markdown",
   "metadata": {},
   "source": [
    "### DIY Reflective Writing Analytics\n",
    "\n",
    "A basic Reflective Writing Analytics (RWA) task, step by step using the [Text Analytics Pipeline (TAP)](http://tap-test.utscic.edu.au)\n",
    "\n",
    "But first, we need to do some setup of the software."
   ]
  },
  {
   "cell_type": "code",
   "execution_count": 1,
   "metadata": {},
   "outputs": [],
   "source": [
    "from IPython.core.display import display, HTML  # Allows us to create annotated text using HTML and CSS\n",
    "import json                                     # We need to be able to work whith JSON which is returned by TAP\n",
    "from urllib import request, response            # To create requests to TAP and handle responses from TAP\n",
    "import string                                   # To help with visualising analytics\n",
    "import ipywidgets as widgets                    # Provides an interactive Textarea widget"
   ]
  },
  {
   "cell_type": "markdown",
   "metadata": {},
   "source": [
    "#### The Task - Group Efficacy\n",
    "\n",
    "Consider a large cohort of students undertaking an assignment in small groups. Most work is undertaken outside of face-to-face time, and therefore monitoring group interaction is not practical.\n",
    "\n",
    "Suppose we wish to identify which groups are functioning well and which groups are having problems so that we can intervene early.\n",
    "\n",
    "**The Writing:** *Students use [GoingOK](http://goingok.org) to write short personal reflections about their group work after each group interaction (or at least once per week).*\n",
    "\n",
    "#### Language features\n",
    "\n",
    "What features are we likely to see in the students writing when group work is going well? What about when the group is not functioning?\n",
    "\n",
    "Take a look at a couple of examples..."
   ]
  },
  {
   "cell_type": "code",
   "execution_count": 12,
   "metadata": {},
   "outputs": [
    {
     "name": "stdout",
     "output_type": "stream",
     "text": [
      "I can't believe that Harry has done nothing for our project. Everyone has been working diligently on it except him. He hasn't even started. If he doesn't lift his game this week, I'm going to talk to our tutor about it. I don't want us all to get a bad mark because he can't make an effort.\n"
     ]
    },
    {
     "data": {
      "text/plain": [
       "<_io.TextIOWrapper name='example_text/grp1-pers1.txt' mode='r' encoding='UTF-8'>"
      ]
     },
     "metadata": {},
     "output_type": "display_data"
    }
   ],
   "source": [
    "# Load reflections from disk, and format to screen (can these be shown in a new window??)\n",
    "file = open(\"example_text/grp1-pers1.txt\")\n",
    "g1p1Text = file.read()\n",
    "print(g1p1Text)\n",
    "g1p1Para = '<p>'+g1p1Text+'</p>'\n",
    "g1p1Html = HTML(g1p1Para)\n",
    "display(g1p1)"
   ]
  },
  {
   "cell_type": "markdown",
   "metadata": {},
   "source": [
    "#### Insignificant words that are significant\n",
    "\n",
    "Often, when processing text computationally we are interested in content, and so words that don't contribute to the content, called stop words (a, the, this, then, me, I, us), are discarded and the algorithm works with the content words.\n",
    "\n",
    "*What do content words tell us about the effectiveness of the groups?*\n",
    "\n",
    "*What about the stop words? Do they tell us anything?*"
   ]
  },
  {
   "cell_type": "code",
   "execution_count": null,
   "metadata": {},
   "outputs": [],
   "source": [
    "# Highlight pronouns in example text"
   ]
  },
  {
   "cell_type": "markdown",
   "metadata": {},
   "source": [
    "#### Formulating a hypothesis\n",
    "\n",
    "When performing writing analytics, we use observations coupled a knowledge of the context and relevant theory to formulate a hypothesis about how the text might be analysed to yield insights that are of practical benefit.\n",
    "\n",
    "**Hypothesis:** Is the use of singular or plural pronouns an indicator of group efficacy?\n",
    "\n",
    "We can then test this on the data."
   ]
  },
  {
   "cell_type": "code",
   "execution_count": null,
   "metadata": {},
   "outputs": [],
   "source": [
    "# Visualise singluar versus plural pronouns"
   ]
  },
  {
   "cell_type": "markdown",
   "metadata": {},
   "source": [
    "#### Refining the hypothesis\n",
    "\n",
    "During the course of testing our hypothesis we might notice other factors. We can then look for types of analysis that may be able to test whether these factors help get us further towards our goal of identifying group efficacy. Consider...\n",
    "\n",
    "- The use of group members names (NER)\n",
    "- Positive or negative language (Sentiment)\n",
    "- Consistency between group members' language (Antonym-Hyponym)"
   ]
  },
  {
   "cell_type": "code",
   "execution_count": null,
   "metadata": {},
   "outputs": [],
   "source": [
    "# Visualise NER and Sentiment\n",
    "\n",
    "# See if classes of features are aligning and group into categories\n",
    "\n",
    "# Categorise reflections\n",
    "\n",
    "# Identify signficant antonyms and hyponyms within reflections of a group\n",
    "\n",
    "# Can we classify the group?"
   ]
  },
  {
   "cell_type": "code",
   "execution_count": 1,
   "metadata": {},
   "outputs": [],
   "source": [
    "# Other software required...\n"
   ]
  },
  {
   "cell_type": "markdown",
   "metadata": {},
   "source": [
    "### Check the connection to TAP\n",
    "\n",
    "We need to ensure that we can actually connect to TAP, before trying asking it to analyse our text. TAP provides a health endpoint which we can use to check if the server is up.\n",
    "\n",
    "**[1]** Firstly, we need to set the ```URL``` for TAP, and the endpoint that we want request."
   ]
  },
  {
   "cell_type": "code",
   "execution_count": 2,
   "metadata": {},
   "outputs": [],
   "source": [
    "tapUrl = \"http://tap-test.utscic.edu.au/\"   # TAP URL\n",
    "health = \"health\"                           # Health endpoint"
   ]
  },
  {
   "cell_type": "markdown",
   "metadata": {},
   "source": [
    "**[2]** Now we need to create a ```Request``` to send to the TAP server. \n",
    "> For now, this request is to the health endpoint, but later we will want to send a request to a different endpoint, that is why the ```tapurl``` is separate to the ```health``` endpoint."
   ]
  },
  {
   "cell_type": "code",
   "execution_count": 3,
   "metadata": {},
   "outputs": [],
   "source": [
    "tapRequest = request.Request(tapUrl+health)   # The full URL is the URL for TAP + the health endpoint"
   ]
  },
  {
   "cell_type": "markdown",
   "metadata": {},
   "source": [
    "**[3]** We send the request to TAP and capture the response. \n",
    "\n",
    "The response from TAP is going to include a ```status``` which should be ```200``` signally that everything was OK on the server, and a ```body``` which is actually the web data that we are interested in."
   ]
  },
  {
   "cell_type": "code",
   "execution_count": 4,
   "metadata": {},
   "outputs": [
    {
     "name": "stdout",
     "output_type": "stream",
     "text": [
      "200\n",
      "{\"message\":\"Ok\"}\n"
     ]
    }
   ],
   "source": [
    "tapResponse = request.urlopen(tapRequest)    # Send the request to TAP and capture the resonse\n",
    "print(tapResponse.status)                           # Print out the status code - it should be 200\n",
    "body = tapResponse.read().decode('utf8')            # If the status is OK, then read the body\n",
    "print(body)                                         # Print out the body. Should be: {\"message\":\"Ok\"}\n",
    "                                                    # If the request is unsuccessful, an error will be thrown\n"
   ]
  },
  {
   "cell_type": "markdown",
   "metadata": {},
   "source": [
    "### Using the JSON data\n",
    "\n",
    "Most of the time, when we get JSON data back from TAP we will want to process it in some way. So let's get the message into a variable so that we can use it in other parts of our code."
   ]
  },
  {
   "cell_type": "code",
   "execution_count": 5,
   "metadata": {},
   "outputs": [
    {
     "name": "stdout",
     "output_type": "stream",
     "text": [
      "All is good\n"
     ]
    }
   ],
   "source": [
    "jsonData = json.loads(body)              # Change the raw text into a JSON object\n",
    "message = jsonData.get(\"message\")        # Get the actual message\n",
    "if message == 'Ok':                      # Use it in code\n",
    "  print(\"All is good\")\n",
    "else:\n",
    "  print(\"No good\")"
   ]
  },
  {
   "cell_type": "markdown",
   "metadata": {},
   "source": [
    "### Querying the Graphql endpoint on TAP\n",
    "\n",
    "The above shows how to connect to TAP and get basic data back, but to use TAP's analytics capability we need to send requests to the graphql endpoint that include the text that we want analysed.\n",
    "\n",
    "To do this, we need more than just the new endpoint in the request, we need the query itself, and a ```request header``` to tell TAP about the data format.\n",
    "\n",
    "**[1]** Because we will want to send queries with different text, let's create query function first. This one will identify modal expressions in the text."
   ]
  },
  {
   "cell_type": "code",
   "execution_count": 6,
   "metadata": {},
   "outputs": [],
   "source": [
    "query = None              # A global variable to put the created query - Need a functional way of doing this!!\n",
    "def modalQuery(text):     # A function to create a modal expression query for TAP with given text\n",
    "    queryEntry = \"query Modal($input: String!){ expressions(text: $input) { analytics { modal { text }}}}\"\n",
    "    variableEntry = {'input':text}\n",
    "    global query\n",
    "    query = json.dumps({'query':queryEntry, 'variables':variableEntry})"
   ]
  },
  {
   "cell_type": "markdown",
   "metadata": {},
   "source": [
    "**[2]** We can pass this function to a text area widget which would allow us to auto-update the ```query``` variable when text is typed or pasted into the ```Input``` box."
   ]
  },
  {
   "cell_type": "code",
   "execution_count": 7,
   "metadata": {},
   "outputs": [],
   "source": [
    "# Create the widget\n",
    "textArea = widgets.Textarea(                            \n",
    "              placeholder='Paste or type your text here',\n",
    "              description='Input:',\n",
    "              disabled=False )\n",
    "              \n",
    "# Add some demo text so that the user doesn't have to make something up              \n",
    "textArea.value = 'I would have prefered to code in Scala, but I will continue in Python for the benefit of others.'\n",
    "\n",
    "# Make the widget interactive. Note that assigning it to suppress, just stops the result being shown below the widget\n",
    "suppress = widgets.interact(modalQuery,text=textArea)"
   ]
  }
 ],
 "metadata": {
  "kernelspec": {
   "display_name": "Python 3",
   "language": "python",
   "name": "python3"
  },
  "language_info": {
   "codemirror_mode": {
    "name": "ipython",
    "version": 3
   },
   "file_extension": ".py",
   "mimetype": "text/x-python",
   "name": "python",
   "nbconvert_exporter": "python",
   "pygments_lexer": "ipython3",
   "version": "3.6.3"
  },
  "widgets": {
   "state": {
    "45993015ea854d58907dd1ded7b34222": {
     "views": [
      {
       "cell_index": 15
      }
     ]
    }
   },
   "version": "1.2.0"
  }
 },
 "nbformat": 4,
 "nbformat_minor": 1
}
