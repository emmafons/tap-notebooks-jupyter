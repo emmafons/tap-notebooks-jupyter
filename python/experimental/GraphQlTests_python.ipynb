{
 "cells": [
  {
   "cell_type": "code",
   "execution_count": 16,
   "metadata": {},
   "outputs": [],
   "source": [
    "import json\n",
    "import urllib.request\n",
    "import urllib.response"
   ]
  },
  {
   "cell_type": "code",
   "execution_count": 83,
   "metadata": {
    "collapsed": true
   },
   "outputs": [],
   "source": [
    "def athanorQuery(text):\n",
    "    queryEntry = \"query Moves($input: String!){ moves(text: $input) { analytics }}\"\n",
    "    variableEntry = {'input':text}\n",
    "    return json.dumps({'query':queryEntry, 'variables':variableEntry})"
   ]
  },
  {
   "cell_type": "code",
   "execution_count": 84,
   "metadata": {
    "collapsed": true
   },
   "outputs": [],
   "source": [
    "query = athanorQuery(\"In past experience I have found that people are not always genuine.\")"
   ]
  },
  {
   "cell_type": "code",
   "execution_count": 85,
   "metadata": {},
   "outputs": [
    {
     "name": "stdout",
     "output_type": "stream",
     "text": [
      "{\"query\": \"query Moves($input: String!){ moves(text: $input) { analytics }}\", \"variables\": {\"input\": \"In past experience I have found that people are not always genuine.\"}}\n"
     ]
    }
   ],
   "source": [
    "print(query)"
   ]
  },
  {
   "cell_type": "code",
   "execution_count": 87,
   "metadata": {},
   "outputs": [],
   "source": [
    "url = \"http://tap-test.utscic.edu.au/graphql\"\n",
    "req = urllib.request.Request(url,data=query.encode(\"utf8\"),headers={'Content-Type':'application/json'})"
   ]
  },
  {
   "cell_type": "code",
   "execution_count": 88,
   "metadata": {},
   "outputs": [
    {
     "name": "stdout",
     "output_type": "stream",
     "text": [
      "{'data': {'moves': {'analytics': [['context1', 'ContrastAnalysis', 'challenge1', 'temporality', 'change', 'contrast', 'SubjectTemporality', 'ContrastStance', 'StanceAnalysis', 'SubjectStance', 'SubjectAnalysis']]}}}\n"
     ]
    }
   ],
   "source": [
    "response = urllib.request.urlopen(req)\n",
    "the_page = response.read().decode('utf8')\n",
    "jsonData = json.loads(the_page)\n",
    "print(jsonData)"
   ]
  },
  {
   "cell_type": "code",
   "execution_count": 80,
   "metadata": {},
   "outputs": [],
   "source": [
    "result = obj.get(\"data\").get(\"moves\").get(\"analytics\")"
   ]
  },
  {
   "cell_type": "code",
   "execution_count": 81,
   "metadata": {},
   "outputs": [
    {
     "name": "stdout",
     "output_type": "stream",
     "text": [
      "[['context1', 'ContrastAnalysis', 'challenge1', 'temporality', 'change', 'contrast', 'SubjectTemporality', 'ContrastStance', 'StanceAnalysis', 'SubjectStance', 'SubjectAnalysis']]\n"
     ]
    }
   ],
   "source": [
    "print(result)"
   ]
  },
  {
   "cell_type": "code",
   "execution_count": 82,
   "metadata": {},
   "outputs": [
    {
     "name": "stdout",
     "output_type": "stream",
     "text": [
      "Sentence 1 moves:\n",
      "\tcontext1\n",
      "\tContrastAnalysis\n",
      "\tchallenge1\n",
      "\ttemporality\n",
      "\tchange\n",
      "\tcontrast\n",
      "\tSubjectTemporality\n",
      "\tContrastStance\n",
      "\tStanceAnalysis\n",
      "\tSubjectStance\n",
      "\tSubjectAnalysis\n"
     ]
    }
   ],
   "source": [
    "for idx, sent in enumerate(result, start=1):\n",
    "    print(\"Sentence {} moves:\".format(idx))\n",
    "    for move in sent:\n",
    "        print(\"\\t\"+move)"
   ]
  },
  {
   "cell_type": "code",
   "execution_count": null,
   "metadata": {
    "collapsed": true
   },
   "outputs": [],
   "source": []
  }
 ],
 "metadata": {
  "kernelspec": {
   "display_name": "Python 3",
   "language": "python",
   "name": "python3"
  },
  "language_info": {
   "codemirror_mode": {
    "name": "ipython",
    "version": 3
   },
   "file_extension": ".py",
   "mimetype": "text/x-python",
   "name": "python",
   "nbconvert_exporter": "python",
   "pygments_lexer": "ipython3",
   "version": "3.6.2"
  }
 },
 "nbformat": 4,
 "nbformat_minor": 2
}
