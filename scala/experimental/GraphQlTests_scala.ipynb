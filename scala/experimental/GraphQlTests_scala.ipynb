{
 "cells": [
  {
   "cell_type": "code",
   "execution_count": 1,
   "metadata": {
    "collapsed": true
   },
   "outputs": [],
   "source": [
    "%AddDeps org.scalaj scalaj-http_2.11 2.3.0\n",
    "import scalaj.http._\n",
    "import scala.util.parsing.json._"
   ]
  },
  {
   "cell_type": "code",
   "execution_count": 131,
   "metadata": {},
   "outputs": [],
   "source": [
    "def athanorQuery(text:String):String = {\n",
    "    val queryEntry = \"query Metrics($input: String!){ moves(text: $input) { analytics }}\"\n",
    "    val variableEntry = s\"\"\"{\"input\": \\\"$text \\\"}\"\"\"\n",
    "    s\"\"\"{\"query\": \\\"$queryEntry \\\",\"variables\": $variableEntry}\"\"\"\n",
    "}\n",
    "\n",
    "def isValid(query:String):Boolean = JSON.parseFull(query).nonEmpty"
   ]
  },
  {
   "cell_type": "code",
   "execution_count": 132,
   "metadata": {
    "collapsed": true
   },
   "outputs": [],
   "source": [
    "val query = athanorQuery(\"In past experience I have found that people are not always genuine.\")"
   ]
  },
  {
   "cell_type": "code",
   "execution_count": 133,
   "metadata": {},
   "outputs": [
    {
     "name": "stdout",
     "output_type": "stream",
     "text": [
      "Query is good to go\n"
     ]
    }
   ],
   "source": [
    "if(isValid(query)) { \n",
    "    println(\"Query is good to go\")\n",
    "} else {\n",
    "    println(\"There is a problem with the query\")\n",
    "}"
   ]
  },
  {
   "cell_type": "code",
   "execution_count": 134,
   "metadata": {},
   "outputs": [
    {
     "name": "stdout",
     "output_type": "stream",
     "text": [
      "{\"query\": \"query Metrics($input: String!){ moves(text: $input) { analytics }} \",\"variables\": {\"input\": \"In past experience I have found that people are not always genuine. \"}}\n"
     ]
    }
   ],
   "source": [
    "println(query)"
   ]
  },
  {
   "cell_type": "code",
   "execution_count": 166,
   "metadata": {
    "collapsed": true
   },
   "outputs": [],
   "source": [
    "val baseUrl = \"http://tap-test.utscic.edu.au/graphql\"\n",
    "val request = Http(baseUrl).postData(query).header(\"content-type\", \"application/json\")"
   ]
  },
  {
   "cell_type": "code",
   "execution_count": 167,
   "metadata": {},
   "outputs": [],
   "source": [
    "val response = request.asString"
   ]
  },
  {
   "cell_type": "code",
   "execution_count": 168,
   "metadata": {},
   "outputs": [
    {
     "name": "stdout",
     "output_type": "stream",
     "text": [
      "Some(Map(data -> Map(moves -> Map(analytics -> List(List(context1, ContrastAnalysis, challenge1, temporality, change, contrast, SubjectTemporality, ContrastStance, StanceAnalysis, SubjectStance, SubjectAnalysis))))))\n"
     ]
    }
   ],
   "source": [
    "val jsonData = JSON.parseFull(response.body)\n",
    "println(jsonData)"
   ]
  },
  {
   "cell_type": "code",
   "execution_count": 169,
   "metadata": {},
   "outputs": [],
   "source": [
    "val result = jsonData match {\n",
    "    case Some(data) => data.asInstanceOf[Map[String,Map[String,Map[String,List[List[String]]]]]]\n",
    "    .get(\"data\").get(\"moves\").get(\"analytics\").getOrElse(List())\n",
    "    case None => List()\n",
    "}"
   ]
  },
  {
   "cell_type": "code",
   "execution_count": 170,
   "metadata": {},
   "outputs": [
    {
     "name": "stdout",
     "output_type": "stream",
     "text": [
      "List(List(context1, ContrastAnalysis, challenge1, temporality, change, contrast, SubjectTemporality, ContrastStance, StanceAnalysis, SubjectStance, SubjectAnalysis))\n"
     ]
    }
   ],
   "source": [
    "println(result)"
   ]
  },
  {
   "cell_type": "code",
   "execution_count": 171,
   "metadata": {},
   "outputs": [
    {
     "name": "stdout",
     "output_type": "stream",
     "text": [
      "Sentence 0 moves:\n",
      "\tcontext1\n",
      "\tContrastAnalysis\n",
      "\tchallenge1\n",
      "\ttemporality\n",
      "\tchange\n",
      "\tcontrast\n",
      "\tSubjectTemporality\n",
      "\tContrastStance\n",
      "\tStanceAnalysis\n",
      "\tSubjectStance\n",
      "\tSubjectAnalysis\n"
     ]
    }
   ],
   "source": [
    "result.zipWithIndex.foreach { case(lst:List[String],idx:Int) =>\n",
    "    println(s\"Sentence $idx moves:\")\n",
    "    lst.foreach { sent =>\n",
    "        println(s\"\\t$sent\")\n",
    "    }\n",
    "}"
   ]
  },
  {
   "cell_type": "markdown",
   "metadata": {},
   "source": [
    "### Magics\n",
    "List available magics"
   ]
  },
  {
   "cell_type": "code",
   "execution_count": 38,
   "metadata": {},
   "outputs": [
    {
     "name": "stdout",
     "output_type": "stream",
     "text": [
      "Available line magics:\n",
      "%lsmagic %showtypes %adddeps %truncation %addjar\n",
      "\n",
      "Available cell magics:\n",
      "%%sql %%html %%javascript %%dataframe %%pyspark %%scala %%sparkr\n",
      "\n",
      "Type %<magic_name> for usage info.\n",
      "         \n"
     ]
    }
   ],
   "source": [
    "%lsmagic"
   ]
  },
  {
   "cell_type": "code",
   "execution_count": 165,
   "metadata": {},
   "outputs": [
    {
     "data": {
      "text/html": [
       "<p>\n",
       "Here is some <strong>html</strong>\n",
       "</p>"
      ]
     },
     "execution_count": 165,
     "metadata": {},
     "output_type": "execute_result"
    }
   ],
   "source": [
    "%%html\n",
    "<p>\n",
    "Here is some <strong>html</strong>\n",
    "</p>"
   ]
  },
  {
   "cell_type": "code",
   "execution_count": 173,
   "metadata": {
    "collapsed": true
   },
   "outputs": [],
   "source": [
    "import org.apache.toree.magic.{CellMagicOutput, CellMagic}\n",
    "import org.apache.toree.kernel.protocol.v5.{Data, MIMEType}\n",
    "\n",
    "def display_html(html: String) = Left(CellMagicOutput(MIMEType.TextHtml -> html))"
   ]
  },
  {
   "cell_type": "code",
   "execution_count": 174,
   "metadata": {},
   "outputs": [
    {
     "data": {
      "text/html": [
       "<p>This is some HTML</p>"
      ]
     },
     "execution_count": 174,
     "metadata": {},
     "output_type": "execute_result"
    }
   ],
   "source": [
    "display_html (\"<p>This is some HTML</p>\")\n",
    "display_html (\"<p>This is some HTML</p>\")"
   ]
  },
  {
   "cell_type": "code",
   "execution_count": null,
   "metadata": {
    "collapsed": true
   },
   "outputs": [],
   "source": []
  }
 ],
 "metadata": {
  "kernelspec": {
   "display_name": "Apache Toree - Scala",
   "language": "scala",
   "name": "apache_toree_scala"
  },
  "language_info": {
   "file_extension": ".scala",
   "name": "scala",
   "version": "2.11.8"
  }
 },
 "nbformat": 4,
 "nbformat_minor": 2
}
